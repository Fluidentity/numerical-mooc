{
 "cells": [
  {
   "cell_type": "markdown",
   "metadata": {},
   "source": [
    "###### Content under Creative Commons Attribution license CC-BY 4.0, code under MIT license (c)2014 L.A. Barba, C.D. Cooper, G.F. Forsyth."
   ]
  },
  {
   "cell_type": "markdown",
   "metadata": {},
   "source": [
    "# Riding the wave"
   ]
  },
  {
   "cell_type": "markdown",
   "metadata": {},
   "source": [
    "We've reached the third lesson of the module _Riding the wave: Convection problems_, where we explore the numerical solution of conservation laws. We learned in the [first lesson](https://nbviewer.jupyter.org/github/numerical-mooc/numerical-mooc/blob/master/lessons/03_wave/03_01_conservationLaw.ipynb) how to think about conservation laws, starting with the most intuitive case: that of conservation of mass. But there are many physical quantities that can be conserved: energy, for example. Or cars on a road.\n",
    "\n",
    "Developing a conservation law for traffic in a one-lane roadway is fun, because we can relate to the insights it gives. We've all experienced traffic slowing down to a crawl when the density of cars gets very high, and stepping on the accelerator pedal with glee when there are no cars on the road!\n",
    "\n",
    "In the previous two lessons, we developed a traffic-flow model and explored [different choices of numerical scheme](https://nbviewer.jupyter.org/github/numerical-mooc/numerical-mooc/blob/master/lessons/03_wave/03_02_convectionSchemes.ipynb).  Not everything worked as you expected, and by now you might be realizing how some restrictions come about from the numerical methods themselves, while others still are imposed by the models we use. This lesson will develop a better traffic model, and also show you some impressive SymPy kung-fu."
   ]
  },
  {
   "cell_type": "markdown",
   "metadata": {},
   "source": [
    "## Traffic flow, revisited"
   ]
  },
  {
   "cell_type": "markdown",
   "metadata": {},
   "source": [
    "### A better flux model"
   ]
  },
  {
   "cell_type": "markdown",
   "metadata": {},
   "source": [
    "Like you saw in the first lesson, cars obey a typical conservation law,\n",
    "\n",
    "$$\n",
    "\\begin{equation}\n",
    "\\frac{\\partial \\rho}{\\partial t} + \\frac{\\partial F}{\\partial x} = 0\n",
    "\\end{equation}\n",
    "$$\n",
    "\n",
    "where $F$ is the flux, $F=\\rho u$—flux equals density times velocity. From our experience on the road, we know that the traffic speed is a function of traffic density, and we proposed as a first approximation a linear relation between the two. Thus,\n",
    "\n",
    "$$\n",
    "\\begin{equation}\n",
    "F(\\rho) = \\rho \\, u_{max}\\left(1 - \\frac{\\rho}{\\rho_{max}} \\right)\n",
    "\\end{equation}\n",
    "$$\n",
    "\n",
    "This flux model meets the two requirements, based on a qualitative view of traffic flow, that:\n",
    "1. $u \\rightarrow u_{max}$ and $F\\rightarrow 0$ when $\\rho \\rightarrow 0$.\n",
    "2. $u \\rightarrow 0$ as $\\rho \\rightarrow \\rho_{max}$\n",
    "\n",
    "However, it leads to some unrealistic or at least improbable results.  For example, note that if the traffic speed is a linear function of density, the flux function will be quadratic (see Figure 1). In this case, the maximum flux will occur when $\\rho^{\\star} = \\rho_{max}/2$, corresponding to a traffic speed $u_{max}/2$.  "
   ]
  },
  {
   "cell_type": "markdown",
   "metadata": {},
   "source": [
    "![velocity_and_flux](./figures/velocity_and_flux.png)\n",
    "#### Figure 1. Traffic speed (left) and flux (right) vs. density."
   ]
  },
  {
   "cell_type": "markdown",
   "metadata": {},
   "source": [
    "A good question to ask here is:  should the maximum flux on a given stretch of road have a strict dependence on the maximum speed that the roadway allows, be it by physical restrictions or posted speed limits? In other words, do we really expect the maximum flux to increase if we allow arbitrarily high speeds? \n",
    "\n",
    "Probably not.  But there *should* be some ideal traffic speed, $u^{\\star}$, corresponding to an ideal traffic density, $\\rho^{\\star}$, resulting in the maximum traffic flux:\n",
    "\n",
    "$$\n",
    "\\begin{equation}\n",
    "F_{\\rm max} = \\rho^{\\star}u^{\\star}\n",
    "\\end{equation}\n",
    "$$\n",
    "\n",
    "Let us improve the initial flux model by taking this observation into account. One thing that we can try is to introduce a flux model that is cubic in $\\rho$ instead of quadratic:\n",
    "\n",
    "$$\n",
    "\\begin{equation}\n",
    "F(\\rho) = u_{\\rm max}\\rho (1 - A\\rho - B \\rho^2)\n",
    "\\end{equation}\n",
    "$$\n",
    "\n",
    "This new model still meets the first criterion listed above: $F\\rightarrow 0$ when $\\rho \\rightarrow 0$. Moreover, we impose the following conditions:\n",
    "\n",
    "* When $\\rho = \\rho_{\\rm max}$ traffic flux goes to zero:\n",
    "\n",
    "$$\n",
    "\\begin{equation}\n",
    "F(\\rho_{\\rm max}) = 0 = u_{\\rm max}\\, \\rho_{\\rm max}(1 - A \\rho_{\\rm max} - B \\rho_{\\rm max}^2)\n",
    "\\end{equation}\n",
    "$$\n",
    "\n",
    "* Based on eq. (3), maximum flux occurs when $\\rho = \\rho^{\\star}$ and $F'(\\rho^{\\star}) = 0$:\n",
    "\n",
    "$$\n",
    "\\begin{equation}\n",
    "F'(\\rho^{\\star}) = 0  = u_{\\rm max}(1 - 2A\\rho^{\\star} - 3B(\\rho^{\\star})^2)\n",
    "\\end{equation}\n",
    "$$\n",
    "\n",
    "* $u^{\\star}$ is obtained when $\\rho = \\rho^{\\star}$:\n",
    "\n",
    "$$\n",
    "\\begin{equation}\n",
    "u^{\\star} = u_{\\rm max}(1 - A \\rho^{\\star} - B(\\rho^{\\star})^2)\n",
    "\\end{equation}\n",
    "$$\n",
    "\n",
    "We have three equations and four unknowns $A,B,\\rho^{\\star}, u^{\\star}$. However, in practice, the ideal traffic speed could be obtained for a given road by observations. Similarly to $u_{max}$ and $\\rho_{max}$ it will therefore be taken as a parameter."
   ]
  },
  {
   "cell_type": "markdown",
   "metadata": {},
   "source": [
    "### Solving the new flux equation"
   ]
  },
  {
   "cell_type": "markdown",
   "metadata": {},
   "source": [
    "Equations $(5)$, $(6)$, and $(7)$ are not incredibly difficult to solve with pen and paper. Instead of following that route, we can use [SymPy](http://sympy.org/en/index.html), the symbolic mathematics library of Python.  You used SymPy already in the [Burgers' equation lesson](https://nbviewer.jupyter.org/github/numerical-mooc/numerical-mooc/blob/master/lessons/02_spacetime/02_04_1DBurgers.ipynb) of Module 2, _\"Space & Time\"_, and you will learn some new functionalities here.\n",
    "\n",
    "We begin by importing SymPy, initializing $\\LaTeX$ printing and defining a set of symbolic variables that we'll use in the calculations. Remember: variables are not defined automatically, you have to tell SymPy that a name will correspond to a symbolic variable by using the keyword `symbols`. This behavior is different from many other symbolic math systems that implicitly construct symbols for you, so you may be perplexed if you've used these other sytems before. The reason for this behavior in SymPy is that the system is fully built on Python, a general-purpose language that needs you to define all objects before using them."
   ]
  },
  {
   "cell_type": "code",
   "execution_count": 49,
   "metadata": {},
   "outputs": [],
   "source": [
    "import sympy\n",
    "sympy.init_printing()\n",
    "\n",
    "(u_max, u_star, rho_max,\n",
    " rho_star, A, B) = sympy.symbols('u_max u_star rho_max rho_star A B')"
   ]
  },
  {
   "cell_type": "markdown",
   "metadata": {},
   "source": [
    "Notice that we used the special character `_` (the under-dash) to create a symbol with a subscript. Here, for example, we've created the symbols $u_{max}$ and $u_{star}$, representing $u_{\\rm max}$ and $u^{\\star}$ ($u$-star) in the equations, and assigned them to the variable names `u_max` and `u_star`. SymPy also allows you to create symbols with a superscript by means of the special character `^`. Be careful, though: SymPy is built on Python, so you denote an exponent in an expression by `**` (this may also be different from other symbolic math systems that you have used in the past).\n",
    "\n",
    "Next, use `sympy.Eq()` to define the three equations—corresponding to Equations $(5)$, $(6)$ and $(7)$, above—in terms of symbolic variables. The function `sympy.Eq()` creates an equality between two SymPy objects, passed as arguments separated by a comma. We need to remember that the equal sign in Python is used for variable assignment, and for that reason it cannot be used to build a symbolic equation with SymPy. That is why we need `sympy.Eq()` to create symbolic equalities. But the equal sign _is_ used to _assign_ an equation to a name: here, `eq1`, `eq2`, `eq3` are names for the symbolic equalities we create with `sympy.Eq()`."
   ]
  },
  {
   "cell_type": "code",
   "execution_count": 50,
   "metadata": {},
   "outputs": [],
   "source": [
    "eq1 = sympy.Eq(0, u_max * rho_max * (1 - A * rho_max - B * rho_max**2))\n",
    "eq2 = sympy.Eq(0, u_max * (1 - 2 * A * rho_star - 3 * B * rho_star**2))\n",
    "eq3 = sympy.Eq(u_star, u_max * (1 - A * rho_star - B * rho_star**2))"
   ]
  },
  {
   "cell_type": "markdown",
   "metadata": {},
   "source": [
    "Check this out: you can display these equations in pretty typeset mathematics just by executing their name in a code cell:"
   ]
  },
  {
   "cell_type": "code",
   "execution_count": 51,
   "metadata": {},
   "outputs": [
    {
     "data": {
      "image/png": "[encoded data removed]",
      "text/latex": [
       "$\\displaystyle 0 = \\rho_{max} u_{max} \\left(- A \\rho_{max} - B \\rho_{max}^{2} + 1\\right)$"
      ],
      "text/plain": [
       "              ⎛                2    ⎞\n",
       "0 = ρₘₐₓ⋅uₘₐₓ⋅⎝-A⋅ρₘₐₓ - B⋅ρₘₐₓ  + 1⎠"
      ]
     },
     "execution_count": 51,
     "metadata": {},
     "output_type": "execute_result"
    }
   ],
   "source": [
    "eq1"
   ]
  },
  {
   "cell_type": "code",
   "execution_count": 52,
   "metadata": {},
   "outputs": [
    {
     "data": {
      "image/png": "[encoded data removed]",
      "text/latex": [
       "$\\displaystyle 0 = u_{max} \\left(- 2 A \\rho_{star} - 3 B \\rho_{star}^{2} + 1\\right)$"
      ],
      "text/plain": [
       "         ⎛                      2    ⎞\n",
       "0 = uₘₐₓ⋅⎝-2⋅A⋅ρₛₜₐᵣ - 3⋅B⋅ρₛₜₐᵣ  + 1⎠"
      ]
     },
     "execution_count": 52,
     "metadata": {},
     "output_type": "execute_result"
    }
   ],
   "source": [
    "eq2"
   ]
  },
  {
   "cell_type": "code",
   "execution_count": 53,
   "metadata": {},
   "outputs": [
    {
     "data": {
      "image/png": "[encoded data removed]",
      "text/latex": [
       "$\\displaystyle u_{star} = u_{max} \\left(- A \\rho_{star} - B \\rho_{star}^{2} + 1\\right)$"
      ],
      "text/plain": [
       "             ⎛                  2    ⎞\n",
       "uₛₜₐᵣ = uₘₐₓ⋅⎝-A⋅ρₛₜₐᵣ - B⋅ρₛₜₐᵣ  + 1⎠"
      ]
     },
     "execution_count": 53,
     "metadata": {},
     "output_type": "execute_result"
    }
   ],
   "source": [
    "eq3"
   ]
  },
  {
   "cell_type": "markdown",
   "metadata": {},
   "source": [
    "As stressed above, we have three equations with three unknowns (assuming we have some observed value of $u_{star}$, corresponding to the ideal traffic speed)—there must be a solution!\n",
    "\n",
    "To eliminate the term with $B$ in `eq2`, leaving it only in terms of $A$ and $\\rho^{\\star}$, we might subtract `3*eq3`.  But this will not work in SymPy if you attempt equation subtraction using the equation names. Just like we couldn't use the equal sign (which in Python means assignment) to create a symbolic equality (needing `sympy.Eq` instead), we can't use mathematical operators directly on the SymPy equations, because they are really _equalities_. What does it mean to subtract two _equalities_? It doesn't make sense. Try it ..."
   ]
  },
  {
   "cell_type": "code",
   "execution_count": 54,
   "metadata": {},
   "outputs": [
    {
     "ename": "TypeError",
     "evalue": "unsupported operand type(s) for *: 'int' and 'Equality'",
     "output_type": "error",
     "traceback": [
      "\u001b[1;31m---------------------------------------------------------------------------\u001b[0m",
      "\u001b[1;31mTypeError\u001b[0m                                 Traceback (most recent call last)",
      "\u001b[1;32m<ipython-input-54-903aa0354492>\u001b[0m in \u001b[0;36m<module>\u001b[1;34m\u001b[0m\n\u001b[1;32m----> 1\u001b[1;33m \u001b[0meq2\u001b[0m \u001b[1;33m-\u001b[0m \u001b[1;36m3\u001b[0m \u001b[1;33m*\u001b[0m \u001b[0meq3\u001b[0m\u001b[1;33m\u001b[0m\u001b[1;33m\u001b[0m\u001b[0m\n\u001b[0m",
      "\u001b[1;31mTypeError\u001b[0m: unsupported operand type(s) for *: 'int' and 'Equality'"
     ]
    }
   ],
   "source": [
    "eq2 - 3 * eq3"
   ]
  },
  {
   "cell_type": "markdown",
   "metadata": {},
   "source": [
    "See?  SymPy just printed out what you suggested but it did not manipulate algebraically the left and right sides of `eq2` like we were aiming for. What we _can_ do is create a _new_ equation, perform the left-hand side (LHS) and right-hand side (RHS) operations separately and then recombine them into our desired result. For this, it is helpful to know that there are built-in properties of a SymPy equality for the left-hand side and the right-hand side of the equality. Check it out:"
   ]
  },
  {
   "cell_type": "code",
   "execution_count": 55,
   "metadata": {},
   "outputs": [
    {
     "data": {
      "image/png": "[encoded data removed]",
      "text/latex": [
       "$\\displaystyle - 3 u_{star} = u_{max} \\left(- 2 A \\rho_{star} - 3 B \\rho_{star}^{2} + 1\\right) - 3 u_{max} \\left(- A \\rho_{star} - B \\rho_{star}^{2} + 1\\right)$"
      ],
      "text/plain": [
       "                ⎛                      2    ⎞          ⎛                  2   \n",
       "-3⋅uₛₜₐᵣ = uₘₐₓ⋅⎝-2⋅A⋅ρₛₜₐᵣ - 3⋅B⋅ρₛₜₐᵣ  + 1⎠ - 3⋅uₘₐₓ⋅⎝-A⋅ρₛₜₐᵣ - B⋅ρₛₜₐᵣ  + \n",
       "\n",
       " ⎞\n",
       "1⎠"
      ]
     },
     "execution_count": 55,
     "metadata": {},
     "output_type": "execute_result"
    }
   ],
   "source": [
    "eq4 = sympy.Eq(eq2.lhs - 3 * eq3.lhs, eq2.rhs - 3 * eq3.rhs)\n",
    "eq4"
   ]
  },
  {
   "cell_type": "markdown",
   "metadata": {},
   "source": [
    "That still needs a little work. SymPy offers several methods to help reduce expressions. You can use [`simplify()`](http://docs.sympy.org/latest/modules/simplify/simplify.html?highlight=simplify#sympy.simplify.simplify.simplify) to attempt to make the expression \"simpler,\" but you can imagine that the quality of an expression being simple is not well defined. One may expect the simpler expression to be shorter, maybe; but not always. The SymPy `simplify()` function applies several strategies, heuristically, to give you an equivalent reduced expression. But some expressions are uncooperative and `simplify()` gives up, returning the argument unchanged. Let's see what it can do with our expression `eq4`."
   ]
  },
  {
   "cell_type": "code",
   "execution_count": 56,
   "metadata": {},
   "outputs": [
    {
     "data": {
      "image/png": "[encoded data removed]",
      "text/latex": [
       "$\\displaystyle 3 u_{star} = - u_{max} \\left(A \\rho_{star} - 2\\right)$"
      ],
      "text/plain": [
       "3⋅uₛₜₐᵣ = -uₘₐₓ⋅(A⋅ρₛₜₐᵣ - 2)"
      ]
     },
     "execution_count": 56,
     "metadata": {},
     "output_type": "execute_result"
    }
   ],
   "source": [
    "eq4.simplify()"
   ]
  },
  {
   "cell_type": "markdown",
   "metadata": {},
   "source": [
    "That is actually a useful result. We see that `eq4` allows solving for $\\rho^{\\star}$ in terms of $A$, for example (remember that $u_{max}$ is known: the road's maximum velocity). Then we could try to manipulate `eq1` to solve for $B$ in terms of $A$, as well, so that we can substitute back in `eq2` leaving everything in terms of $A$. We can do all that without the help of `simplify()`, but using it interactively to reason about the long expression helped us to decide on a course of action.\n",
    "\n",
    "Another SymPy function that can help us examine complicated expressions is [`expand()`](http://docs.sympy.org/latest/modules/core.html?highlight=expand#sympy.core.function.expand). Its purpose is to expand bracketed factors in expressions and group powers of symbols. Let's see what that does here. Notice first that `eq4` hasn't changed; we just printed the result of applying `simplify()` to it."
   ]
  },
  {
   "cell_type": "code",
   "execution_count": 57,
   "metadata": {},
   "outputs": [
    {
     "data": {
      "image/png": "[encoded data removed]",
      "text/latex": [
       "$\\displaystyle - 3 u_{star} = u_{max} \\left(- 2 A \\rho_{star} - 3 B \\rho_{star}^{2} + 1\\right) - 3 u_{max} \\left(- A \\rho_{star} - B \\rho_{star}^{2} + 1\\right)$"
      ],
      "text/plain": [
       "                ⎛                      2    ⎞          ⎛                  2   \n",
       "-3⋅uₛₜₐᵣ = uₘₐₓ⋅⎝-2⋅A⋅ρₛₜₐᵣ - 3⋅B⋅ρₛₜₐᵣ  + 1⎠ - 3⋅uₘₐₓ⋅⎝-A⋅ρₛₜₐᵣ - B⋅ρₛₜₐᵣ  + \n",
       "\n",
       " ⎞\n",
       "1⎠"
      ]
     },
     "execution_count": 57,
     "metadata": {},
     "output_type": "execute_result"
    }
   ],
   "source": [
    "eq4"
   ]
  },
  {
   "cell_type": "markdown",
   "metadata": {},
   "source": [
    "And now we print the result of applying `expand()` to it."
   ]
  },
  {
   "cell_type": "code",
   "execution_count": 58,
   "metadata": {},
   "outputs": [
    {
     "data": {
      "image/png": "[encoded data removed]",
      "text/latex": [
       "$\\displaystyle - 3 u_{star} = A \\rho_{star} u_{max} - 2 u_{max}$"
      ],
      "text/plain": [
       "-3⋅uₛₜₐᵣ = A⋅ρₛₜₐᵣ⋅uₘₐₓ - 2⋅uₘₐₓ"
      ]
     },
     "execution_count": 58,
     "metadata": {},
     "output_type": "execute_result"
    }
   ],
   "source": [
    "eq4.expand()"
   ]
  },
  {
   "cell_type": "markdown",
   "metadata": {},
   "source": [
    "That's very similar to our previous result, except without the bracketed factor. Simplifying an expression can be accomplished by expanding or factoring terms, or a combination of the two. Whether to `simplify()` or `expand()` depends on the situation and you just have to experiment.\n",
    "\n",
    "We now have an idea of what to do with our three equations. We'll get expressions in terms of $A$ from `eq4` and `eq1` and substitute them back into `eq2`. For that, we can use the SymPy functions [`solve()`](http://docs.sympy.org/dev/modules/solvers/solvers.html#sympy.solvers.solvers.solve) and `subs()`, respectively. The arguments to `solve()` are the equality that needs to be solved, and the symbol to solve for.\n",
    "\n",
    "**Note**: `sympy.solve()` always returns results in a *list*, since you often end up with multiple solutions for a given variable.  These linear equations will only return one solution, so we can skip a step and ask right away for the `[0]`-th element of the list."
   ]
  },
  {
   "cell_type": "code",
   "execution_count": 59,
   "metadata": {},
   "outputs": [
    {
     "data": {
      "image/png": "[encoded data removed]",
      "text/latex": [
       "$\\displaystyle \\frac{2 u_{max} - 3 u_{star}}{A u_{max}}$"
      ],
      "text/plain": [
       "2⋅uₘₐₓ - 3⋅uₛₜₐᵣ\n",
       "────────────────\n",
       "     A⋅uₘₐₓ     "
      ]
     },
     "execution_count": 59,
     "metadata": {},
     "output_type": "execute_result"
    }
   ],
   "source": [
    "rho_sol = sympy.solve(eq4, rho_star)[0]\n",
    "rho_sol"
   ]
  },
  {
   "cell_type": "code",
   "execution_count": 60,
   "metadata": {},
   "outputs": [
    {
     "data": {
      "image/png": "[encoded data removed]",
      "text/latex": [
       "$\\displaystyle \\frac{- A \\rho_{max} + 1}{\\rho_{max}^{2}}$"
      ],
      "text/plain": [
       "-A⋅ρₘₐₓ + 1\n",
       "───────────\n",
       "       2   \n",
       "   ρₘₐₓ    "
      ]
     },
     "execution_count": 60,
     "metadata": {},
     "output_type": "execute_result"
    }
   ],
   "source": [
    "B_sol = sympy.solve(eq1, B)[0]\n",
    "B_sol"
   ]
  },
  {
   "cell_type": "markdown",
   "metadata": {},
   "source": [
    "The arguments to the SymPy function [`subs()`](http://docs.sympy.org/dev/modules/core.html#sympy.core.basic.Basic.subs) are given as (old, new) pairs, where the \"new\" expression substitutes the \"old\" one. So here, in `eq2`, we substitute `rho_sol` in place of `rho_star` and we substitute `B_sol` in place of `B`."
   ]
  },
  {
   "cell_type": "code",
   "execution_count": 61,
   "metadata": {},
   "outputs": [
    {
     "data": {
      "image/png": "[encoded data removed]",
      "text/latex": [
       "$\\displaystyle 0 = u_{max} \\left(1 - \\frac{2 \\left(2 u_{max} - 3 u_{star}\\right)}{u_{max}} - \\frac{3 \\left(2 u_{max} - 3 u_{star}\\right)^{2} \\left(- A \\rho_{max} + 1\\right)}{A^{2} \\rho_{max}^{2} u_{max}^{2}}\\right)$"
      ],
      "text/plain": [
       "         ⎛                                               2              ⎞\n",
       "         ⎜    2⋅(2⋅uₘₐₓ - 3⋅uₛₜₐᵣ)   3⋅(2⋅uₘₐₓ - 3⋅uₛₜₐᵣ) ⋅(-A⋅ρₘₐₓ + 1)⎟\n",
       "0 = uₘₐₓ⋅⎜1 - ──────────────────── - ───────────────────────────────────⎟\n",
       "         ⎜            uₘₐₓ                       2     2     2          ⎟\n",
       "         ⎝                                      A ⋅ρₘₐₓ ⋅uₘₐₓ           ⎠"
      ]
     },
     "execution_count": 61,
     "metadata": {},
     "output_type": "execute_result"
    }
   ],
   "source": [
    "quadA = eq2.subs([(rho_star, rho_sol), (B, B_sol)])\n",
    "quadA"
   ]
  },
  {
   "cell_type": "code",
   "execution_count": 62,
   "metadata": {},
   "outputs": [
    {
     "data": {
      "image/png": "[encoded data removed]",
      "text/latex": [
       "$\\displaystyle 3 u_{max} - 6 u_{star} - \\frac{3 \\left(2 u_{max} - 3 u_{star}\\right)^{2}}{A \\rho_{max} u_{max}} + \\frac{3 \\left(2 u_{max} - 3 u_{star}\\right)^{2}}{A^{2} \\rho_{max}^{2} u_{max}} = 0$"
      ],
      "text/plain": [
       "                                       2                       2    \n",
       "                   3⋅(2⋅uₘₐₓ - 3⋅uₛₜₐᵣ)    3⋅(2⋅uₘₐₓ - 3⋅uₛₜₐᵣ)     \n",
       "3⋅uₘₐₓ - 6⋅uₛₜₐᵣ - ───────────────────── + ───────────────────── = 0\n",
       "                        A⋅ρₘₐₓ⋅uₘₐₓ             2     2             \n",
       "                                               A ⋅ρₘₐₓ ⋅uₘₐₓ        "
      ]
     },
     "execution_count": 62,
     "metadata": {},
     "output_type": "execute_result"
    }
   ],
   "source": [
    "quadA.simplify()"
   ]
  },
  {
   "cell_type": "markdown",
   "metadata": {},
   "source": [
    "It's a little bit ugly, but that is quadratic in $A$, and that means we can solve for the roots of the equation. SymPy's `solve()` function in this case will return a list with the two roots. They are long expressions, so let's print each root separately."
   ]
  },
  {
   "cell_type": "code",
   "execution_count": 63,
   "metadata": {},
   "outputs": [],
   "source": [
    "A_sol = sympy.solve(quadA, A)"
   ]
  },
  {
   "cell_type": "code",
   "execution_count": 64,
   "metadata": {},
   "outputs": [
    {
     "data": {
      "image/png": "[encoded data removed]",
      "text/latex": [
       "$\\displaystyle \\frac{\\sqrt{- u_{star} \\left(4 u_{max} - 9 u_{star}\\right)} \\left(- 2 u_{max} + 3 u_{star}\\right) + \\left(2 u_{max} - 3 u_{star}\\right)^{2}}{2 \\rho_{max} u_{max} \\left(u_{max} - 2 u_{star}\\right)}$"
      ],
      "text/plain": [
       "  ___________________________                                         2\n",
       "╲╱ -uₛₜₐᵣ⋅(4⋅uₘₐₓ - 9⋅uₛₜₐᵣ) ⋅(-2⋅uₘₐₓ + 3⋅uₛₜₐᵣ) + (2⋅uₘₐₓ - 3⋅uₛₜₐᵣ) \n",
       "───────────────────────────────────────────────────────────────────────\n",
       "                      2⋅ρₘₐₓ⋅uₘₐₓ⋅(uₘₐₓ - 2⋅uₛₜₐᵣ)                     "
      ]
     },
     "execution_count": 64,
     "metadata": {},
     "output_type": "execute_result"
    }
   ],
   "source": [
    "A_sol[0]"
   ]
  },
  {
   "cell_type": "code",
   "execution_count": 65,
   "metadata": {},
   "outputs": [
    {
     "data": {
      "image/png": "[encoded data removed]",
      "text/latex": [
       "$\\displaystyle \\frac{\\left(2 u_{max} - 3 u_{star}\\right) \\left(2 u_{max} - 3 u_{star} + \\sqrt{- u_{star} \\left(4 u_{max} - 9 u_{star}\\right)}\\right)}{2 \\rho_{max} u_{max} \\left(u_{max} - 2 u_{star}\\right)}$"
      ],
      "text/plain": [
       "                   ⎛                     ___________________________⎞\n",
       "(2⋅uₘₐₓ - 3⋅uₛₜₐᵣ)⋅⎝2⋅uₘₐₓ - 3⋅uₛₜₐᵣ + ╲╱ -uₛₜₐᵣ⋅(4⋅uₘₐₓ - 9⋅uₛₜₐᵣ) ⎠\n",
       "─────────────────────────────────────────────────────────────────────\n",
       "                     2⋅ρₘₐₓ⋅uₘₐₓ⋅(uₘₐₓ - 2⋅uₛₜₐᵣ)                    "
      ]
     },
     "execution_count": 65,
     "metadata": {},
     "output_type": "execute_result"
    }
   ],
   "source": [
    "A_sol[1]"
   ]
  },
  {
   "cell_type": "markdown",
   "metadata": {},
   "source": [
    "### Evaluating the new flux equation"
   ]
  },
  {
   "cell_type": "markdown",
   "metadata": {},
   "source": [
    "Quadratic equations, of course, have two solutions. Here we have to select the positive root, otherwise our model would have an inconsistency. Are you able to see why?  To determine its value, we need to fill in some actual numbers into the model.\n",
    "\n",
    "Let's start with the same numerical values that we used in [lesson 1](https://nbviewer.jupyter.org/github/numerical-mooc/numerical-mooc/blob/master/lessons/03_wave/03_01_conservationLaw.ipynb) for $\\rho_{\\rm max}$ and $u_{\\rm max}$. But we also have to supply a value for $u^{\\star}$, a quantity that should be experimentally observed in a given road. We propose $u^{\\star} = 0.7\\, u_{\\rm max}$ for this exercise.  This would correspond to 84 km/h for a highway with a 120-km/h speed limit, for example.\n",
    "\n",
    "Let's numerically evaluate the solutions for $A$ using the following values:\n",
    "\n",
    "$$\n",
    "\\begin{align} \n",
    "\\rho_{\\rm max} &=10.0 \\nonumber\\\\ u_{\\rm max} &=1.0 \\nonumber\\\\ u^{\\star} &=0.7 \\nonumber\n",
    "\\end{align}\n",
    "$$\n",
    "\n",
    "Now evaluate the numeric result for each root of $A$ using the `evalf()` function, where you pass the numeric substitution as an argument. It's very cool.  Let's evaluate both roots and we will pick the positive one.\n",
    "\n",
    "Let's try the `[0]`-th solution for $A$, first:"
   ]
  },
  {
   "cell_type": "code",
   "execution_count": 66,
   "metadata": {},
   "outputs": [
    {
     "data": {
      "image/png": "[encoded data removed]",
      "text/latex": [
       "$\\displaystyle -0.0171107219255619$"
      ],
      "text/plain": [
       "-0.0171107219255619"
      ]
     },
     "execution_count": 66,
     "metadata": {},
     "output_type": "execute_result"
    }
   ],
   "source": [
    "A_val_0 = A_sol[0].evalf(subs={u_star: 0.7, u_max: 1.0, rho_max: 10.0})\n",
    "A_val_0"
   ]
  },
  {
   "cell_type": "markdown",
   "metadata": {},
   "source": [
    "Now let's try the `[1]`-th solution for $A$:"
   ]
  },
  {
   "cell_type": "code",
   "execution_count": 67,
   "metadata": {},
   "outputs": [
    {
     "data": {
      "image/png": "[encoded data removed]",
      "text/latex": [
       "$\\displaystyle 0.0146107219255619$"
      ],
      "text/plain": [
       "0.0146107219255619"
      ]
     },
     "execution_count": 67,
     "metadata": {},
     "output_type": "execute_result"
    }
   ],
   "source": [
    "A_val_1 = A_sol[1].evalf(subs={u_star: 0.7, u_max: 1.0, rho_max: 10.0})\n",
    "A_val_1"
   ]
  },
  {
   "cell_type": "markdown",
   "metadata": {},
   "source": [
    "Because Sympy seems not to return the roots in a deterministic order and  we want to use the positive root, we will automatically pick this one by using the Python built-in `max` function."
   ]
  },
  {
   "cell_type": "code",
   "execution_count": 68,
   "metadata": {},
   "outputs": [
    {
     "data": {
      "image/png": "[encoded data removed]",
      "text/latex": [
       "$\\displaystyle 0.0146107219255619$"
      ],
      "text/plain": [
       "0.0146107219255619"
      ]
     },
     "execution_count": 68,
     "metadata": {},
     "output_type": "execute_result"
    }
   ],
   "source": [
    "A_val = max(A_val_0, A_val_1)\n",
    "A_val"
   ]
  },
  {
   "cell_type": "markdown",
   "metadata": {},
   "source": [
    "Now, numerically evaluate $B$ in the same way using the positive root `A_val`:"
   ]
  },
  {
   "cell_type": "code",
   "execution_count": 69,
   "metadata": {},
   "outputs": [
    {
     "data": {
      "image/png": "[encoded data removed]",
      "text/latex": [
       "$\\displaystyle 0.00853892780744381$"
      ],
      "text/plain": [
       "0.00853892780744381"
      ]
     },
     "execution_count": 69,
     "metadata": {},
     "output_type": "execute_result"
    }
   ],
   "source": [
    "B_val = B_sol.evalf(subs={rho_max: 10.0, A: A_val})\n",
    "B_val"
   ]
  },
  {
   "cell_type": "markdown",
   "metadata": {},
   "source": [
    "### Turn off $\\LaTeX$"
   ]
  },
  {
   "cell_type": "markdown",
   "metadata": {},
   "source": [
    "$\\LaTeX$ output is great when we're looking at algebraic expressions, but it's a little too much for simple numeric output.  Let's turn it off for the rest of the exercise:"
   ]
  },
  {
   "cell_type": "code",
   "execution_count": 70,
   "metadata": {},
   "outputs": [],
   "source": [
    "sympy.init_printing(use_latex=False)"
   ]
  },
  {
   "cell_type": "markdown",
   "metadata": {},
   "source": [
    "## Green light: take 2"
   ]
  },
  {
   "cell_type": "markdown",
   "metadata": {},
   "source": [
    "Let's re-examine the green-light problem from [lesson 1](https://nbviewer.jupyter.org/github/numerical-mooc/numerical-mooc/blob/master/lessons/03_wave/03_01_conservationLaw.ipynb) but using our newly computed traffic-flux equation.  We shouldn't have to change much—in fact, we can simply create a new `flux` function and leave the rest of the code unchanged.\n",
    "\n",
    "There's one last bit of housekeeping to do so we don't run into trouble -- we used the variables `rho_max` and `u_max` in our SymPy code and we defined them as SymPy `symbols`.  You can check on the status of a variable using `type()`.  "
   ]
  },
  {
   "cell_type": "code",
   "execution_count": 71,
   "metadata": {},
   "outputs": [
    {
     "name": "stdout",
     "output_type": "stream",
     "text": [
      "<class 'sympy.core.symbol.Symbol'> <class 'sympy.core.symbol.Symbol'>\n"
     ]
    }
   ],
   "source": [
    "print(type(rho_max), type(u_max))"
   ]
  },
  {
   "cell_type": "markdown",
   "metadata": {},
   "source": [
    "If we try to use SymPy variables with NumPy arrays, Python is going to be very unhappy.  We can re-define them as floats and avoid that messy situation.   "
   ]
  },
  {
   "cell_type": "code",
   "execution_count": 72,
   "metadata": {},
   "outputs": [],
   "source": [
    "rho_max = 10.0\n",
    "u_max = 1.0"
   ]
  },
  {
   "cell_type": "code",
   "execution_count": 73,
   "metadata": {},
   "outputs": [],
   "source": [
    "def flux(rho, u_max, A, B):\n",
    "    \"\"\"\n",
    "    Computes the traffic flux for the better model.\n",
    "    \n",
    "    Parameters\n",
    "    ----------\n",
    "    rho : numpy.ndarray\n",
    "       Traffic density along the road as a 1D array of floats.\n",
    "    u_max : float\n",
    "        Maximum speed allowed on the road.\n",
    "    A : float\n",
    "        Scaling coefficient for rho.\n",
    "    B : float\n",
    "        Scaling coefficient for rho squared.\n",
    "    \n",
    "    Returns\n",
    "    -------\n",
    "    F : numpy.ndarray\n",
    "        The traffic flux along the road as a 1D array of floats.\n",
    "    \"\"\"\n",
    "    F = rho * u_max * (1.0 - A * rho - B * rho**2)\n",
    "    return F"
   ]
  },
  {
   "cell_type": "code",
   "execution_count": 74,
   "metadata": {},
   "outputs": [],
   "source": [
    "import numpy\n",
    "from matplotlib import pyplot\n",
    "%matplotlib inline"
   ]
  },
  {
   "cell_type": "code",
   "execution_count": 75,
   "metadata": {},
   "outputs": [],
   "source": [
    "# Set the font family and size to use for Matplotlib figures.\n",
    "pyplot.rcParams['font.family'] = 'serif'\n",
    "pyplot.rcParams['font.size'] = 16"
   ]
  },
  {
   "cell_type": "code",
   "execution_count": 76,
   "metadata": {},
   "outputs": [],
   "source": [
    "def rho_green_light(x, rho_light):\n",
    "    \"\"\"\n",
    "    Computes the \"green light\" initial condition.\n",
    "    It consists of a shock with a linear distribution behind it.\n",
    "    \n",
    "    Parameters\n",
    "    ----------\n",
    "    x : numpy.ndarray\n",
    "        Locations on the road as a 1D array of floats.\n",
    "    rho_light : float\n",
    "        Car density at the stoplight.\n",
    "    \n",
    "    Returns\n",
    "    -------\n",
    "    rho : numpy.ndarray\n",
    "        The initial car density along the road\n",
    "        as a 1D array of floats.\n",
    "    \"\"\"\n",
    "    rho = numpy.zeros_like(x)\n",
    "    mask = numpy.where(x < 2.0)\n",
    "    rho[mask] = rho_light * x[mask] / 2.0\n",
    "    return rho"
   ]
  },
  {
   "cell_type": "code",
   "execution_count": 77,
   "metadata": {},
   "outputs": [],
   "source": [
    "# Set parameters.\n",
    "nx = 81  # number of locations on the road\n",
    "L = 4.0  # length of the road\n",
    "dx = L / (nx - 1)  # distance between two consecutive locations\n",
    "nt = 30  # number of time steps to compute\n",
    "rho_light = 5.0  # car density at the traffic light.\n",
    "\n",
    "# Define the locations on the road.\n",
    "x = numpy.linspace(0.0, L, num=nx)\n",
    "\n",
    "# Compute the initial traffic density.\n",
    "rho0 = rho_green_light(x, rho_light)"
   ]
  },
  {
   "cell_type": "code",
   "execution_count": 78,
   "metadata": {},
   "outputs": [
    {
     "data": {
      "image/png": "[encoded data removed]",
      "text/plain": [
       "<Figure size 432x288 with 1 Axes>"
      ]
     },
     "metadata": {
      "needs_background": "light"
     },
     "output_type": "display_data"
    }
   ],
   "source": [
    "# Plot the initial car density on the road.\n",
    "fig = pyplot.figure(figsize=(6.0, 4.0))\n",
    "pyplot.xlabel(r'$x$')\n",
    "pyplot.ylabel(r'$\\rho$')\n",
    "pyplot.grid()\n",
    "line = pyplot.plot(x, rho0,\n",
    "                   color='C0', linestyle='-', linewidth=2)[0]\n",
    "pyplot.xlim(0.0, L)\n",
    "pyplot.ylim(-0.5, 6.0)\n",
    "pyplot.tight_layout();"
   ]
  },
  {
   "cell_type": "code",
   "execution_count": 79,
   "metadata": {},
   "outputs": [],
   "source": [
    "def ftbs(rho0, nt, dt, dx, bc_value, *args):\n",
    "    \"\"\"\n",
    "    Computes the traffic density on the road \n",
    "    at a certain time given the initial traffic density.\n",
    "    \n",
    "    Parameters\n",
    "    ----------\n",
    "    rho0 : numpy.ndarray\n",
    "        The initial car density along the road\n",
    "        as a 1D array of floats.\n",
    "    nt : integer\n",
    "        The number of time steps to compute.\n",
    "    dt : float\n",
    "        The time-step size to integrate.\n",
    "    dx : float\n",
    "        The distance between two consecutive locations.\n",
    "    bc_value : float\n",
    "        The constant density at the first station.\n",
    "    args : list or tuple\n",
    "        Positional arguments to be passed to the flux function.\n",
    "    \n",
    "    Returns\n",
    "    -------\n",
    "    rho_hist : list of numpy.ndarray objects\n",
    "        The history of the car density along the road.\n",
    "    \"\"\"\n",
    "    rho_hist = [rho0.copy()]\n",
    "    rho = rho0.copy()\n",
    "    for n in range(nt):\n",
    "        # Compute the flux.\n",
    "        F = flux(rho, *args)\n",
    "        # Advance in time.\n",
    "        rho[1:] = rho[1:] - dt / dx * (F[1:] - F[:-1])\n",
    "        # Set the left boundary condition.\n",
    "        rho[0] = bc_value\n",
    "        # Record the time-step solution.\n",
    "        rho_hist.append(rho.copy())\n",
    "    return rho_hist"
   ]
  },
  {
   "cell_type": "code",
   "execution_count": 80,
   "metadata": {},
   "outputs": [],
   "source": [
    "# Set time-step size based on CFL limit.\n",
    "sigma = 1.0\n",
    "dt = sigma * dx / u_max  # time-step size\n",
    "\n",
    "# Compute the traffic density at all time steps.\n",
    "rho_hist = ftbs(rho0, nt, dt, dx, rho0[0], u_max, A_val, B_val)"
   ]
  },
  {
   "cell_type": "markdown",
   "metadata": {},
   "source": [
    "Now that we have computed the history of the car density along the road, let's create an animation to visualize the results."
   ]
  },
  {
   "cell_type": "code",
   "execution_count": 81,
   "metadata": {},
   "outputs": [],
   "source": [
    "from matplotlib import animation\n",
    "from IPython.display import HTML"
   ]
  },
  {
   "cell_type": "code",
   "execution_count": 82,
   "metadata": {},
   "outputs": [],
   "source": [
    "def update_plot(n, rho_hist):\n",
    "    \"\"\"\n",
    "    Update the line y-data of the Matplotlib figure.\n",
    "    \n",
    "    Parameters\n",
    "    ----------\n",
    "    n : integer\n",
    "        The time-step index.\n",
    "    rho_hist : list of numpy.ndarray objects\n",
    "        The history of the numerical solution.\n",
    "    \"\"\"\n",
    "    fig.suptitle('Time step {:0>2}'.format(n))\n",
    "    line.set_ydata(rho_hist[n])"
   ]
  },
  {
   "cell_type": "code",
   "execution_count": 83,
   "metadata": {},
   "outputs": [
    {
     "data": {
      "text/html": [
       "<video width=\"432\" height=\"288\" controls autoplay loop>\n",
       "  <source type=\"video/mp4\" src=\"data:video/mp4;base64,AAAAIGZ0eXBNNFYgAAACAE00ViBpc29taXNvMmF2YzEAAAAIZnJlZQAASLhtZGF0AAACrgYF//+q\n",
       "3EXpvebZSLeWLNgg2SPu73gyNjQgLSBjb3JlIDE2MSByMzAxOCBkYjBkNDE3IC0gSC4yNjQvTVBF\n",
       "Ry00IEFWQyBjb2RlYyAtIENvcHlsZWZ0IDIwMDMtMjAyMCAtIGh0dHA6Ly93d3cudmlkZW9sYW4u\n",
       "b3JnL3gyNjQuaHRtbCAtIG9wdGlvbnM6IGNhYmFjPTEgcmVmPTMgZGVibG9jaz0xOjA6MCBhbmFs\n",
       "eXNlPTB4MzoweDExMyBtZT1oZXggc3VibWU9NyBwc3k9MSBwc3lfcmQ9MS4wMDowLjAwIG1peGVk\n",
       "X3JlZj0xIG1lX3JhbmdlPTE2IGNocm9tYV9tZT0xIHRyZWxsaXM9MSA4eDhkY3Q9MSBjcW09MCBk\n",
       "ZWFkem9uZT0yMSwxMSBmYXN0X3Bza2lwPTEgY2hyb21hX3FwX29mZnNldD0tMiB0aHJlYWRzPTkg\n",
       "bG9va2FoZWFkX3RocmVhZHM9MSBzbGljZWRfdGhyZWFkcz0wIG5yPTAgZGVjaW1hdGU9MSBpbnRl\n",
       "cmxhY2VkPTAgYmx1cmF5X2NvbXBhdD0wIGNvbnN0cmFpbmVkX2ludHJhPTAgYmZyYW1lcz0zIGJf\n",
       "cHlyYW1pZD0yIGJfYWRhcHQ9MSBiX2JpYXM9MCBkaXJlY3Q9MSB3ZWlnaHRiPTEgb3Blbl9nb3A9\n",
       "MCB3ZWlnaHRwPTIga2V5aW50PTI1MCBrZXlpbnRfbWluPTEwIHNjZW5lY3V0PTQwIGludHJhX3Jl\n",
       "ZnJlc2g9MCByY19sb29rYWhlYWQ9NDAgcmM9Y3JmIG1idHJlZT0xIGNyZj0yMy4wIHFjb21wPTAu\n",
       "NjAgcXBtaW49MCBxcG1heD02OSBxcHN0ZXA9NCBpcF9yYXRpbz0xLjQwIGFxPTE6MS4wMACAAAAR\n",
       "YmWIhAAQ//73gb8yy18iuslx+ed9LKzPPORdft/nuP8wCgiJLprSIZ0kCrNAtypVaue8ZCmM4WXp\n",
       "2VB9R5Gy0sccY95yXD5p3FhaO/mH92r0AKVrRM9fkv9jf0ekOFxMAQt6UgLPNLlZUbcH8UhzVulW\n",
       "2lJlXX8hnJnTlkHMli4SSYHhbnhz2F5ch1pgF7ZTLtEKsw+Ys+AO5ZiIBLaJuGxoDkW9pQJEjl7l\n",
       "KAhZFB7CHt+hachbOIEJ1IbutCqigyj2Bpzt3b7hUjGp4u90jgYmhZqG+o23mYRrFYUQ63FM3bz4\n",
       "OwzOptpXya+8IF17535J1X0eEbm4O7mDMLHXbXCKv04oSxsA4eZuamfrcYjrA7V+6c/k6Dces6MP\n",
       "e4F89fwN+7GD86qIwziiGJIKhN8LQiazSB0zcW3tM4V9fGaz9pqwPaK8Y++Zqgx48F9ggsFvxcbn\n",
       "wTn3q+JwlazsX5v8NN4k3une+OZdTxpYc/Xs9mAaaFEl5FWNZcstQpcGr+B8rKGjYpUJGpvAmNnE\n",
       "KlgkDGGM8zJ44exMmSDeIZwTIzjJFM1HXZMacX+Oeuk7/o8VSCrEYpOpqGpp+Cg5/UdqTBFeVuHE\n",
       "5ji8UDEl0mT62FPO/v12uxvnZZJld3cRPRYCBvgC4NO9Zx59t9cfVOTf/Qs66v/t33aCid6uclpZ\n",
       "HHQibABHF3k7gmqn0Sy9C/hab0qmvrhFA/kMHSbQ1/gCf6It3RiWdcbhjTfNh8EZ6MPJIPdAbZbS\n",
       "I6r5sffVTEFh1mLX9L54FYTbl96tL9+/xcK/zY5MnAHXaImzg3gYWyuKH22QI/Gj2P6Jdd087del\n",
       "DpjeCSlSjQv/xw3UMJ+wPWGp7CdYDeYMEVDvzeaZdajuPcDMJI90DBBD6ep5ck0by7PWcKyodwz+\n",
       "EILV+g28bg7aiKO9jRO+1MgECHC6NaBwOhrUCvFdhNnfzT0JXXn+WgclsEqOA4ddbOFWyVyZGz8G\n",
       "GivLv9zcoBrdY46X0/9WKn1IXepYp3s6ZN4a4x/PozDvjJpDaGMv/QAMs66h8z/qfkVkhE2Oc0EA\n",
       "C/o9l9h4wdq2b6mdoAutGyRQ2zsmPZOKbgfcAcCcz/EMHBBGcxXMpMJHKawXrj7ynAvYDXP+WHBK\n",
       "znhaEd1pSrQ8Mnm4m4gP/Nc08xSw3B/3pq+Rk/b19/gg3VOjZlXLQZgh5MrHmURh+E5woOrnvxdp\n",
       "UJBb12DLiSioaSFc9ItI09H5u7twfTCyfeXAa9z4dTg2WkH9GA0tA6ivgxfufpRm97noXZHdCXZm\n",
       "CQLLnWdXDF5fmQsdeADaNUBGCkvby84Bw9yG51OySi2MWx4p755yGpSr7xRfuXyJT05aeN7YSasu\n",
       "AZuzZoBpP1UV6m833aKnYPXfMNxO5vRtPlju7+WR0TW0vM05NfTvUe7kRoj1DI85UWpu7H/qX6L3\n",
       "ODWtg15sVk67hWOy7GdETJAN32TwvQnt3N8ZXaSGGYoq92obYnDz4T36aNj5CkARNAxsrAqwfGRE\n",
       "ksc8XAg9cnwAQ4MIlWCi8YKGOcxGFr9Ku7ir9pJzjPgMHZMHXUnnQPrKHPRM6A/+beVyoECZLxNu\n",
       "D8PTbjMFMwiaxnUHf3d/EXNjyHDWl6E9JfIsq+dBfsqWQpyEygcEfRqqx76aOhje1jgtLn7xO0qF\n",
       "5Xo7OcVDSy+wzXuJHm0bQaPuaO8WL1tVIrgE2HPkt89CVxNsG/Xp15EJ+xfGUtJXmtSaidweoRbr\n",
       "FJFLYvhC/2uhHZLepOx7QYsp37xdfXMRu5Ik5AX4fskqdID8GcSMddfyAU/X0mfHJeSBIKxJKzps\n",
       "eaBw8MHFDNfa7zBKiAqXRYgc2yn1VmPaKzp9uK2OfnpyXol6WgOHh4hG8X4cakVbO0RbyuBIdOkn\n",
       "GfD12XGWAGqXEhvx9YZIVwVLHFhS/3bKrKt0fNcaHHOvesuNHGP6zXpJiL9yGYJGF2GUdPNmlKiz\n",
       "7vkdogxivHhMw3OOmG7iUfySF/0ak0H62AgfcpQZ4NIivIK6A67cQDDRVEQkVttTw721DwlKv3lu\n",
       "+ei+KBSEWVp7HG3vOwn6CBL/SG8LC9vGIuKEsfwX+aIEgDXJIbz2lHE8hzLd5ho5oI0R5C1VPrl6\n",
       "/nbeunxJR2m81wztLH/yr1GymCdLds+PR4WE5Sbz9gBFhuzNp44dzlzIb3D1bOJVgSiNwXSZCkCX\n",
       "ssbolvkoEDdA+3ybToCdakvVZVbpAkGT87BQaYAzVXfCGgHCjxikjLFcxqnWeeJY7KVKSRaHFbKU\n",
       "U5Y23PmtYwpTMQhAX+MqZhwDaPMZ2gInP3T9yP7jj8Hc3/KMB/M/MlUwlcEralHja6pz2/axuwen\n",
       "7x/U+999riexHbGDWOWdHmnnPv5d9lTIAHOWFm+9HkjHTquCcM5CkGNo57ky3W4g3vgsKrIsb25I\n",
       "GKxl2l4VwLZWXzVezxwETmeMUxcNxMsNeKnDF4IvXocLWTA5e9uo2KL66ChaAJzYr4tA1TNwL1bp\n",
       "PiwYc1Ya+9H+a04xQYOwuL8Sb+OEEIMEtfvpcY054b1yAGZjvvSjwSqnlnXRdV239Bt7Z4mZ6fGH\n",
       "uyk5eu0ZfT1NjCc/TRaUlkL+fp615m9ZrHycQ3AqFqShl3eX0Fa3zfe3WiQ6RX3ewRJp5z9Yfq35\n",
       "GrCN2fCBDTs0BvLGdi17vMelgVDDxD6m/0vV/+OYGyPVltXo9NZD36lcRVAJQURVBtEN8U4GTtyi\n",
       "Mk3z0xKtPxHj+S2ehvrQWN50QHkYFQR6R22+MK+1JQbZ17STK0kW8SkGC19pLB9U3QD0lhOuE/qY\n",
       "oXQpScZZM65MewpyqZ1/SGVzZE41cjuCnCpjL634B642cQptMMEZCXgI7Xa4N39wXKWSSa5xwV3S\n",
       "NqhmmEVTH8YkXpqdzkxIBwB1pPOK0LxDywsQyvmmm8LQ1/vGhRTiSxYb83D4XBtMF8dY45QaPeks\n",
       "dQpBAKUISice5CXAiCWMP0gL+MYOhzgcr1rNxlzrFFUgFo+ObdVGu3YdFa8rXt8dZJ83EJyc6g3x\n",
       "NL/Dpr8DqHgg8hytRmytjt+sVg3/Wmv1pquScazH+2QRJe1ezytT9dHyOemyu5Lyu8nk+oT/gPXq\n",
       "DEp04sv3Y6LuqAs4z8QfWYGpEs5WzbJM94Ye3WyGp/+HCOZpZkIiV8zF2HcNnQKPDO+2wP9THxhu\n",
       "XN83/A9Advg30T0HEB2eEwYtw/FHPNZqVeXR5tUi4tOHjxjdCoIhXBZzdgAvJi39ml3Gy3KPf2o0\n",
       "XLbPAu+T4wmVJyQrge5xGmOrhkdQkRXgAiGAyi8Gn4e4/qCL9cC0pywt5m7Me+ltGjtaAB1Tz6cI\n",
       "y0WiHfOE6jKurC4PuTmLV9zGzXmrol83YeAWD+dqHVadKAnOQMcftLf+Nu3w/y5eqCP3eF9tAAwx\n",
       "2EmOCKn8oI8pw6LBTDiyXOngcfHquqmhTNQ3zLEwRdlOSeDkOdiR581/sLvU4v+PtNVff2TsfWSv\n",
       "Hy9rs6PWUnhKLFCe+jbRlTVdk7pXh3ewZfWxSzfYpsw8EYRPK/mZ6r/uzCfZoiYvXR2N597tuOpu\n",
       "GQYh+jDId6SJjJw4x0/m38V62diSPu4RD2JL20U8GYSu847tgTHbKgG6DhSRzTqFkCeOeWoLgM+D\n",
       "jfTNvUFz1s0rrHp51HHrUvCIyVK7JEQHiIke1ppSTEjokoAoGNdMImjD+WRhGqKs8ltCcYaf1QFH\n",
       "cilcGXRUfDAgoT3WC0fBZ/QwInGsgt1Npm7eWHymFSS1HLmS4+vkVSF5gCH5ysg4GUH9ZKJvFu51\n",
       "w+Y79/agXXDgTuO5zVrdavMUf7c/A4zwyhyrOMjC8rObdtDm/3BPJWcDJqAO3WAu9dzbTfRRJ5Lt\n",
       "O9augnml1yuIBUS4/4eDohk2qr2IQI+AGqLX8dvbi3jirk034xZ1qiQMUM0nRKzrQdO44aPt7Clr\n",
       "7ricR87cQRk6ipH2yuIqY9MVgABtlR29QrqWRXEgXbBQTFJ2GJi0RzyrmSUNNB4OoE28OW8uAW0s\n",
       "fw7XHW8/dNnnRyhl6q/awEgDKbyqVPwD9/buZ2P0LqnAhvEsEYUVdWhp0o2VHVu63iBWvM1KiXEW\n",
       "VgLGX7jjbvQK4usvWNNNQtdRwEaTRa4hl/zYFWB3NBksfslYJegyRMqk64U6dXNj/aHoRMA7lMdj\n",
       "X8O0TuzoyAT2xYX/d3jLe1kfgzD1anCQDraWg2CxFJlZnJGDh/s7KANdA8M+uZhuGHJ4so2O54Zj\n",
       "m8sUdhfi1sFurP94a6LAuesE8mvKZkkIQWdTEJq213i4nCgsEqM2O9KyLlOPFCKZuEIDIsOqCvdk\n",
       "nDMZ3ViVt9L5YlVoxC57aQUc+42rF8JWIXFozx4uW1/7zCL3aYsBlGBR8aBCv8KDu17j1+YB54kf\n",
       "jwp10KujimylC8PpRlZGOllCE91RFbxhKFbr6dYrWF5uo1J13lpOIM67g3gYxdMIVG0XkuGc5LwA\n",
       "ArWIrEHyRNZkH05Dy+ywbVzbvChRRXfLfhNl6xJgBSd7LV4vPkKwgAQnd4l0/MWo7q0BVLfC3f7a\n",
       "Vfo4wsIL92ipKddojb/qrwLz5t0bCHvUhkKkwMsWh1aQkHw6L9lK1Ibq+ZxICq/mupOeURVt/Mfo\n",
       "XXEIU6VnRtR3eXwYbYUhTad2rgP7pLQNUjR96HzvJIEq5ydF54GCD160j3ofQLD34JQ7G1v10UYb\n",
       "cWZQFeEWLA6KZZV8ctu8SrnfJi/SrSPa99lBQuq0X3p2butF8jeZ60eO/442bLvPMPxcyLp3f6q4\n",
       "Vu6y9cI/5jNf240LtVBdI0Vhgpp2SoHRIo+I9RN3XFtUziKpMlEbLmD/7ElPrBXJ1SEOAi0wkucs\n",
       "FMEkShPJZzqQWYVjiej+CioT7j2cKKtuCllZprOacMfMGrs2wbTuKmwAM/XoZBQZnANH+TMApk0F\n",
       "E0v3+9Jxw/KbdAPoRgLR8/9DZlRi3qYCRmrU9f9jD7LvD7EVCxjU3poJBRwnjz/qjbg3TM+PBNB+\n",
       "HEuVliz9IFT+5nOetLGTSsdBhtLdyKB9FsX2vHkvejXsJCHbJEf3CRGWRXqpX2fG7FEl/yu3B+h8\n",
       "TTlO/WtaZGUDIjjwPDCEB+oe4hKqLm/n3QO43UDFqitd38PYPMk2myCZBGGOwipvdnBCemBIdHX7\n",
       "Q8sKagJwE5kbGbkuUN9+fPwPIt9Xx63R0tasqeiXYUViN1EQcoMU7+toK1BS10pr8iDbxQgTIyXV\n",
       "usuOcklIiesWYpRqV4ezD4CJwjA0ZZ21W/JTAjzlO51Ie51xPT4EAUCj754f3rBb8NtxzBGZaWiK\n",
       "ejMJxnCvhFMxxdpbhFlrFwZNJbMhP7vjcgrbaW2ax9MXUfZsEIWxfKSf9tzhnwSjC0/3VChoSwdC\n",
       "jQLvEXo30hJCUnf+ZELLg5PbgBO00kqkpBbhBLwVfN/FWtfUBDLHORK/Gq4VOqEBbD4pfXBUMWUA\n",
       "XmJJMV/obp/IBps94Xl8e9jcyihzV3I4M1E2EWbraPrvSn8DZIXIcfUr78XNNY7HlQvNDmNBPol9\n",
       "50iggBWzo6p0JLsB4wpIkD7L0LBbTU/eqRvrHBxMNFiSNHo4ptQMVgHwBuBqGT7vHRB4fPE8n8kC\n",
       "HGRBHgKDCgF2ZdgYkePcyA16zeEfWd0WDj1rJgQQhtdI2ASpOk4vRCpIi80qEidTe8Fu1Cn3LI39\n",
       "Z/n9nnkMRTiSZgRcVxu5ol8Ca/frSRbLF8bVTI5lFB7o/oeTgcRj4TyOI8SSQIhVU3YIBbzjV7eP\n",
       "rGUcmc1zsotMg9Q48YqG4ECqSylgCh202hsuimM3LlZ8QYORnvWyrycoP00tAPoHm3apd8tER3zl\n",
       "2qDo2esp6/kTJZNEYkT6dkKbn8ZZuEXVvTtDT/JvfGdf/QGQ341sWmUsEb+jUZboPGDxE+y27aJs\n",
       "yGAAAWcAAAODQZoibEEP/qpXixmAAf0i18lcyniuW0/KmEoSsrACYLyQMBWMWt/eVrRRpgZk194H\n",
       "tTcr4LnMZ6ABFfzdqRzMDpoDPuIoQ6wMdpmYz4YQlLxHCB+YKO+raLV2xmcBsX/rBGrgqcsJZBXD\n",
       "uEYAnroQQhvEVGsXj7OGJGxYZ+R7siXCrnMb4DpF1p5NKP1hnweBSacjLcmlQrcEVkapiwgMparu\n",
       "4gqOrMHMsBcpBRnuLSy7NrTnl4/UVfhuwFX+kLRxTx2ZCWdhBBX+GvahSatouTcX+II9on55MWqo\n",
       "cxIM6tWzA/gIsH4ry1MYrrtnJT7Bmf217aZaq7FPoXyqegorbgiFLs7NIxJkrUrZLQVuJXzVSLV2\n",
       "zA1C5AsFccw1Q/9q1o/rvOm78K6iZJGswnWV3+QJvtosgV0lGsmU32/6VzOrxg6YUYhKrO+j1h2k\n",
       "OR/BUlbzs6BvDGxI1RA3SBhgwcZuEHhAn71aE3gtav5IV2Qnvr7NEm/pL7BZBvJqvZyPsH3unODs\n",
       "bY0AbTqR4hA7rSesKsYIEMn5W7VHW2mkA2SbfuGr+/uq36X1AsA4IxD9A3HNJuYfB+uLY1yQNed/\n",
       "6CglRhRiDHJ3ZnMIenxRR3Vk2KTO/iWdTcXt60plpHUD8ZNK6a27A/zN7eP3oMq3e4Yq12stwrl0\n",
       "GZu+kO7htFJINSq/qt2V9rNkRPHybuCLz3LdMB0SRlL/Kl4rB+fG0hXK6v3OOIN5INEKZMwei52m\n",
       "5t3iImzPIIMWFWASelehZHd2SOLY2tYJG+AbMzBQFTrDP6VufBsTT6kEq0S67j5RZQ7yhmuGNonI\n",
       "SLVwnMXwEfQ0MzVoX8+lTxft1xP7JLKmQdJpj7RFy5BhLlKRTHxfxHnl7E1yNxyLLyAeKKy2L2kl\n",
       "/Nrv3oASJVKupF82apKJEfwbIvi13Jr0mzJgkKcDAe3DTd/UDSEDpsMrUmqqA/kY15AAgmWdACFS\n",
       "HY0OojrTAACRXRICj5DHJsCji0gz6rB6XlUX7ieTYW3NzGlhyVJQ96UlLS+octeaw5uNYzKXOqLj\n",
       "K3cEVDuca9uKzbkLKVyKly2Gl6JaiYmA+KwkvKDzhm38jEgVY8ziHxIVfLM0rQ78AunQ4P/E3URS\n",
       "vaX5oe1kMSIoaUMjPm+sjlIO27dK7zC2KWynUS1gwGDfAOmaAaZ8W+GiuA4b+KBjUWTwYDgAAAE3\n",
       "AZ5BeQ3/Bqzg0vDiADZQWYJSCiZ+HBREtnmJJTvr4AOLMTbIXP3jKiFfCmln7Q6i3RP65ZI039GS\n",
       "x4vkm8s6IdVAaoqdlmHJibbqXX2afJ5BimwFP888UY2wnCCz3Ax4XmBjFILAXFEyponqaRgRUtmO\n",
       "Y0Z8/DfrE3IPqEflxHTgxQR/5pxGfbD7Gely8MRwXPeSiakZm5GRwVhf+W5umpki6YyfM1keBHoX\n",
       "EHiw364sSEXllrw+NVqlUFFeXjvB8ooSUH8eIrhtjZA4J8m4r6/AEQ9lLUGEIaDlnJruMDBlkKCu\n",
       "dOsqE6zRoVe74lZxtl1NKk310cyo7azG2oNPVAL8vTNgKstJwKlZnB0+51v/J0w2iJ2MRLtQKmag\n",
       "8UzejsFFR18TnFJP3dYqB9Dd07qd0bnpff0AAAKJQZpDPCGTKYQQ//6qV4UMwAD+kB5Uq/p2UtWs\n",
       "L5yVComCO0bX1t1IaLtY7fvLJ+6hesrxMqU8b2w7Wc1CxrwjgzMxnyHrG1Kky2iyw6kK39hSmcuM\n",
       "wwmyBrhqb2SznMir9rcyzIC2ex6+WlzkmWxexUsTfXSk/doCt9/9Bnn9uhcSDx1/+3H3d06uKS3p\n",
       "Ma5I/4mALsdDP3YpRJm/iFr73UWPdxcuhVH1/dTLa0t9dPOAx5kjz0d+u2WYX0+vl3ySiOqQ9Qsl\n",
       "i4Xn6IoMvtFLhW7hkYi+RV/FVPGEajTrsUP7ErvnQNNn/XnwGACgXqHDL+/cn2rviKxAonwMF4OR\n",
       "1tKXVbXIVBtf1DcTtKcsXJlhJpGYi5FD/ZC22SJqPDEbqxaZvLgvmkWhPeJepCIFLI4jeOnCYu0j\n",
       "ssx6UzXuXJ7ZVWQJ19mShWYM2aHo1XSQADnaSuio0AVcMBLyQXWdi/jO0cbTa5rhxM3Ams+xYKJy\n",
       "j35m5j18gQggLVne1Z882n4HynL4ia1rN/g5dT8cD1QFM6Uq9Sg4A+8yu80RifQNxUMWIzBdLVAv\n",
       "1U8ZEviZ2OvPUJ000/E1M5NrMUHGCKEtaeLR9IOeeikc36eeu5tzaVpqqwA/DcGzOjSaVPgggwV7\n",
       "gHqRPQSIIOwT4GJmL1axqpD0Mkq3o8wuEu6Ycq7DS9mk7S5eOd+KPlfa4dcFCCxDy7gGKbyx/MrF\n",
       "2I/9VmIrQXjMRjz+EE62Y7Puo74IvWPt3y0W98xKtyv8ZU7jLSdW7lDMyJNdWvdLvMTnFCrgmxZQ\n",
       "Zu78qWPCWMDIMGE7RclkfGNKBWXj6kcr3N4BtkCH1bCq/m+R8COqn+ZecaI6wErsPF1EgAAAAs1B\n",
       "mmVJ4Q8mUwU8EP/+qleFDMAA2n/ENtvMve4S2UjAQiXD+6f6/qi6KryaHJJNd9sh9auHzIQyfmNj\n",
       "nWUbBvQz5iP7h2lfPtxx0dOVAAcOVJlOj9+5fZ2pskMvkEdEQ2QDJyJu18nco6o2/cKX1yIzYkzx\n",
       "DUsc94p6UJ1I2mhxocN/iL+QoDifeszZP7q1cKg62OiM+kXutEWXZQA7cmAurTY86uP1c3wKD52K\n",
       "X7LxsgLjvCMoeso0P07/prE7VnCwBRvyAiOb/75AMV7F30MY8yfdVr+Vt53qxKAQoPfj6RfC6xvB\n",
       "L5+7wpFv8t9pkWUNwIq32TPv/PSZ5v9WyW/EmScmc/mX0IMqANEgQ+yUWtSIscAWIoEPK3cR3a1c\n",
       "SJoYGzaSAGf/Kv4tK3q+++RrSzWgUav8pcNIyEAPolwVFUW7iDd9mWU/FKU5KxdwzYnfvjtyQDHM\n",
       "UlSubUahYNLl8C1MykL0Wsl6O95zo3qbMIIcvhWLYIsshTONsHxa593sHih1f1ph35s/jxsdhiKi\n",
       "vZ5aI3dvHamr5JVcyJARC9dbuTR+IVV1qSSWWO1PIAU4fHx69Db8MweXlfCRjbXqcsS3TpscL9O8\n",
       "0Q6muIo3/D7leqhxNG3U6EUAgjaW3W79Sc8O2nrtOeaf5hVSvZz+u6zEGt/jtPtPCLmuO9TYzz1d\n",
       "jsfSKwstGiqlFD9nD/mBQCwGmzeDnyRjOl78zyXTlnUPEgz5T2Y8EK5VzOoZO/4HdGzSI/0OXIf9\n",
       "YdCE3/dOi9m14/H/n9UEhLzn6VmhvRJNr3XWnCqS6LWBDM1cusOR0lR0UXp4gaVg3OXwuxe3wMYF\n",
       "/UlQV6MicjGipythkQCv6wr1JwwiojjjAQNeAQtPCVWogzIVsbkhNx7ILjGs8xyAj6PS8GOC6MML\n",
       "JJ5vJ7Zn5WkIOddUQe2e4SXXA3KZBCk346mcOropdGEAAAEvAZ6EakN/g0MT6O6moAQp6C8n/ISe\n",
       "gGMAS7g6qpH6R1oQ+TvOqiB0T/lTqrcKidkP7j4ZbPLSjI+cbOU+GW7vsAurZ7p+uhLEL4KpQFrg\n",
       "GwocWVjfCzrNrI9Xvk+Id5jVR2X50x3RsLVzfoOvS+RCddLQZyoewnD7mLeOLxH1j7yRnlEmgyBT\n",
       "GQNmEHx65q4ss0PPrv8OMDMnXoRnPYTjUp801TpvztpMYAlHs8Rt8h4Jg+GPS0l4YQCKbRLz5cOB\n",
       "nJjqnDdLaLK3d0f/p++bPIW3t+9UL1l2s/zsV4z2azrri6FmFbanDs/iyxHtkgr80PIv/4US43bG\n",
       "gI6AAqIIpKJfOeWr1KUQRv0Qe2tP17rmeTrokltR6qGn3hlH46zn0bc7Bc6ndT8mqwDzJIHrAAAC\n",
       "7UGah0nhDyZTBTwQ//6qV769bAAOcvOYTcXdW8ZuNkpasKcYOoxznPuv4R3X/jSdXJjl15JDg/yB\n",
       "0kP/JaQRSZ9Bw6lNbYbE60BYA4vvhFAcgJKhO2au8lD4/TqcX8uVOmV2cdY0TYNdSwQIsc5+/ra6\n",
       "5OrLp0tEP0LVhYTdz2D62ucYgsORML2q/+atyRiq+RmPyNzy42LPnoZWmUhcVf89+J1RKvkQham9\n",
       "4PDw85xAbXwrTy5T9zTtTrhDRq2oYN/AjL/F5IoYQXfN7OdOPmIDoksxCDNHv/T2v0sa0wAi9AOB\n",
       "pEfQ0bu+umBpXdYhgDMlgk2Pg1HDWgysCPtSFzbz1J5amqOFp0cUHqv4ZYbQ77WjBSEfkloSTMwh\n",
       "ZhNweQge5WcQpEgEyJJ2VoBAlImebjEs4puX1VYD0XeKI7tTKShuB4n3HhjLYJB+QxGRbquRNAT3\n",
       "UZ/SgZcTaIv7jgsz+FwU9ATft0n2DhlrTofj+fMkJiEDmrXy1uqGgLHZere1Cyw6N0b8JLnxw2wB\n",
       "JC98WuoXyYYjCCRLyGeUSMvxZBX6CNXxvibfoXoqnSY8HSk+WgBD77F/OaUOoCIk9hAlMJJwsckL\n",
       "Vu01eQIzNXSm98L6f4hnED6zQHzDRrUj5zp7kDqzpQiYHHDy3lNIStvgC7xf8q0VhfdTZ6i1J6S8\n",
       "mrK9OAgsyRxhY5dXf7CwsszZir9u7DhvNcHAXEe/vsM9H1ziMfG0984VyRTbY2tWV/XGRIhjaega\n",
       "b5+nWd9xruXY2J31h81dlFXTjKWHN6MIk6sr/IV5iSmZXzH/CUQReGDAj099yjZasnGV4I3lt7YU\n",
       "pQwBOpjep5e7E3g3EiUgp83doXTsT+rwiPnxD9AzPrXynnq4OGZ+4US7ini/OrObym/Ko3H0twbR\n",
       "QJiyt7r7W46ufs8l9Kz3QVd2JzaWW0c0zTDijAlnJ0GvEyLDRH/jgPrILk2Hk2gcC8OKTZOveHlm\n",
       "+PkGlYnbvdpdAAABJQGepmpDf4PVkaRcYzUAHOW9Tq8oJdJPpGV2aBQ7ltdD5AHlMQSoC+MTUxV/\n",
       "kXJCUufYtlX6SJhZDEUl9XtafFo1pSOiI/SHHrc/GEhFAxWa3k67JGkkZrHNjt/xMedFmWBP3qTa\n",
       "IPhQUIWso8pO7F1KUJHmFHMPSb61e6gpQ/HfiRNWPGa14p28ejuamdhZjIDH87B7/wCZh9vJ+Zhj\n",
       "fmfYzH/6zbOKDY5RvtDcOvUrZRNc3jKrgAAAAwAFp/mkUXkh2MJwmBsfB6l/dPtjLjhgibNpdCFS\n",
       "QT8UYxmymWYfqtFNlgr5V/Ey6GaxBPMFT4SUvec4nLqoNKn7QUYIt8XNBibsjVC3A6z4cjKUAs3e\n",
       "j7I6d0LZl+py5i0G8MVwp1pM63adAAACL0GaqEnhDyZTAgh//qpXihUYABl3zlLExb7R+6zSVW6G\n",
       "eED2uQei1Xhr4WG7Jf2nyJ57vq71Rn3IOSc0h7vGb9d+1W6juWANYgJN9r/OPfh6po0SdDdrbqtw\n",
       "oxnLxLF0szTwA/OtB16O+UZAEKxalWh3ieBBfH4WdOPXIk4AXeEBS0ekt7K2n+nGd+WeBjxIVe+q\n",
       "0zFxdoMjtq9ebwjx7/kmUoIFHe1v5U9LfQqXAmLLTO8NWBDt7AtBRPLVWRQ6gjhKiM6RUubLlKpN\n",
       "/95G7Vwj0SeAiKmE7ZgWzAvMOa6nNRbk0bZ9Xx4Z1bBCftmfeyDAaIoXgxEdLjV9tss4kCi5h5pZ\n",
       "H/JOfpGsCiTkkEIMH4yIqkK7pbcC3aGHmrB9leAPHpmwd85qeeS3f0nWEqQqPdzpCsz9QDrLqUTb\n",
       "6yzMhknTgw2lpp+rP2ISIBXJGApyVGyF5VKFg3cVYki6JJTeQ8Gs6pGUAeG6iTK9WsUiZCkiSgOq\n",
       "kGInbq25LlEOXr6LhGKkpCdSaGwlEwT2CStSSry3//dmb3DZMPtWECqBw+TlCQDDmS7wSEIwRZ4Q\n",
       "CtAsOQ/5HQJJ4tKu9n9bsSZV+dOH0jOfWYDFU+tYzaJduWphoZahNHzNU748WRYORJkJH6SGq8jT\n",
       "IAWjd6W98QKnd4jlNLCxl89soqtYziIJOUB/gVU+i6M7K12wneDgEpbLd/Boppx7QTM6ttBIkqXo\n",
       "lV0L93uCpwL9LX6k4xYAAAN8QZrLSeEPJlMCCH/+qlfXRltTb3xYAS2dck82aDwiUEUHHuX10owY\n",
       "YjR1LF2lHgGj/gNJP8or2aYgCrQ7d/qFr60ab94+GDVqTFyNfx8pGVKFBC1dn1BTBRvBAorLF1UV\n",
       "YsLOycfPllTxuECJskoo3OiYT+2n11l2lMoAm61FmpY7AG+KhnGHVBQfc3UOu/kkAO861Lr22byW\n",
       "yVc8N37pVrCilgXNwWC+HeSjUISh38GrIbG9UQdy150Aj9cdB7qzXDJ6Je2HPfRz0EDL921G1UZG\n",
       "OG0OH1Y/ge8iJmYT+irjyBMFq9WTSSH/IRQp3ZdRbBHc8rTJ8/KzPMnt8qRGcKj8lapbF11HO6Cy\n",
       "rHx7pFnp2+UgNyoc+8WtY3fXESlmTsy+2T2DxRdndx4u9knj7z9b2RRJ/6n/D2BOa9nGe8JC0Q9E\n",
       "vmpsoy8T6HV/iDQN09BbjkoGpFdMbydmxcxn8cKuEpsFOI3WYFIf+1ReoXN8RtJE60NDBlzMxtnZ\n",
       "5nKqvHa511oG9LYaHPKxOwvtg4fghgkAsxaXNSOeKY3KpnxP/Kw0ZjSJN1kkRYHOr6VKShGXkSXf\n",
       "hW3oEiwKjZC1w7fJ+2KW1X4JSl61iYKV68Gwl2ZiBS9TkVG34tltORckaVLQbuzJAyHQsTnn7czp\n",
       "1s13GtOsEhAHJKP2LaImUqmlNCrEu6cXFEl7bSCYZyAW8tdtrTQaBjduTnH81vo2msFm2jjUeqF1\n",
       "dAbd7Cf6cEamxgyKcAOgab6y2VBksm1tPIysvYBy9+TkJPTJJkdCneybXobbUZFWLhXBwCoTifmK\n",
       "/fV4uj6Lqm+ECxiq5g6gSup3frwAbOZw+m0Rh7ZvgZk/ZbF+ocwDD9qt6V4qEHyY7OGuxpoGhbJA\n",
       "DJ6XHtclRElO5ahdMYBIwpctXeONQ3ZTf8J3o+r/BU5oc0QyTXN6hiNtWwALmkyJoEZZVIGOBQQP\n",
       "j+7nK0GC6oYJxcpxAhtHmgpAMG6wDB0H4GvyA12LAHmfAKVs4aQfeeVJ8Efi4/higw0SO6nAfHzL\n",
       "k3QuV9QP9YvHoKRj9+d7G7Ta4QbBoRnnhj8EEQGFXRobGruyjEL/Yc6OzsO0DBFe6Y5ttirbvZrD\n",
       "wPt/6I/3CgfgDroydaOLBJOecqWMtmOfuSLpm9vsaynsRDf8wJsmlY5j8txMRvTTGVIg9XsvuAAA\n",
       "AQpBnulFETw3/wdH4aIADrtZgiK2Z2ShwDGoSz7iLuWXPl7SJIKmM4ncGh7RT0CmGs7dAjR52+cT\n",
       "k2mwyVRgqLyCYK9ectXCCdKzCNJ0y1P3uaLx3ROKsI/jpL8CnXASq0I1NGanqgHkFIHtpZ9kSwbe\n",
       "OvWYIbNcuxEteUALiC2CimctRJpFdwN+j4ACUQqB7EgxcANZ6GynAlUTlrAg0F4gZPYvjX/6Ampb\n",
       "VuIsJq+iUipE4mxl4/iCIPca8EVODrtXCHP27gAtgcoo+UtMVhVeae3D98vseymgRQ3xm6lT4DTK\n",
       "EopdweIqnPDzrIVUQqoe52+MDCCzEOKn+5JYggwM7POndzrt/o2BIQAAAO4BnwpqQ38Gp6gKtivq\n",
       "Il4AQnxcleCDQJDfu+zLlnqiyg/1A0lC6XQCfar0V4M9PhaeZ43DZgvqCVqb+1NjRbXVCz14TE0i\n",
       "ExCyNpZ2WrxsREubqbkLTYtGpwUa3sWtn8XteC+soANIqBoCoMHyB0yaRdKg0g5X/70ZWGq81jzF\n",
       "ggAbKpFWfQCi5dKvYl2qA+cph+pgj6rgzT/dtsu4jyhe4H0vlhywBsY74qZxvmsyGrKG9/lc/XTb\n",
       "cQD1FshFIrDKc8d2yOSYxpxMCptn8AmSgXaXF/H1p6n3kdpIkYE2YqKQ3SoINDP93FonrTdcAAAC\n",
       "hUGbDUmoQWiZTBTwQ//+qleT2AsoAJ29jAJH4NaIDzCl0LJVvYUfokYu0kQDdr4LB6YnPmTwsVHE\n",
       "N3gKkjkSRA7nILf4j502lv0XG5QEgl86tS5pW6C1ecK4ulv5Vn3PztNuf/71rQQSRjOX6ZHRQr8n\n",
       "39/BNBpWSXOqz4I1xpO2/du97QSXmiFFLCEq9qpqoveEvgVN6wdvK6XbSBVkLUdRAaLodhLZ356I\n",
       "LXLfYgHrctixr1FC4Vn0EzdyRvImFq8k/3aTQ9+CrNlojvnHH8gVB23PYRtLnMukeVVQ2PP+CkqA\n",
       "3hiskSu2bqZXa53mBPa+WFvc+4KazuD0ghc4ZL1VWt63LCf/WFh+yWLudiD7eDJJpLvy/V0tL01P\n",
       "Wx1m4MLW96XXFc4Dl529vs7c8aaAHaQC1rW0zApXXASI2Tyswb9H3I7oa36KAXkOgVmbL+CQmCDj\n",
       "/UYECUiQOiKyTEZl7SrBeAYzb/9m8rkCuWfWYxs1uxYzPjCbOTNh116LS23YnkQOpuUNLIUzsFPq\n",
       "Eng+rUkVm73ouZ9acNgrGdwg3OfaeY6zgvylXDSQb1mypByLS9f8ke0JBoXMNwo+LKINmax3ogs+\n",
       "X6XLK6l+dIp8x52+AjwQW63l7jMlPkgT4KdZ1hOmUxT10SvUEjhI2R1ToLSgdZ0+JwinFg+CzL8q\n",
       "ROrbj6sNmVA7T1mz9UWhNBJSYg+KYf4JJhUyW530cEc1ZHwMARHvXjZWbF4ihGGc18tcBsY4JyuX\n",
       "LqZa/PHFbB4nU4+1DKxzc0lOCEFDZmVuaCWbSZuO3TTHkVnxs81Oc7q+Vk4dK6tDF5hClH6P442H\n",
       "wC3+5PeDXGQHa3JYG+lcMcqIygAAAOcBnyxqQ38GrOGvfd3EAGvncCGRpVW+yvj2MzhqnFpSjXlJ\n",
       "y+/TlkQcbH4Qsn02q1c3hVIFWD5VOz0+I7BSklrkBdQWmRrxSiEdPTjTbhsu2seFXxrzHYwQBTNz\n",
       "6gWo5elV1y5OXUNu8zzq69G7InN/T0fOjAJu0P/cQxFyFyDJKz1YhqFl7rqlehGWtknjfJP8d08L\n",
       "MqKa04PhMBtxZuAmPAuOOgO+7LWSxxKYkbKzJINW+q3bC3puBYBNYmT8bEIFsiIkAoY+7D3uXv/P\n",
       "0qq9doRH9YsptHhMP8+4TWzdoI0PckK5j5kAAALqQZswSeEKUmUwIIf//qpXm1v2rJgAG1GGh+BL\n",
       "NgfCtYrxIO5Y/4Ahnd7Db0dPKtjHa/DVpp68qoNrgn7IN7WvY2RZ0hVO+X1pi+6j27EnLvKwUe5R\n",
       "O8WL662qIBXKLwJcwHvcBU7NsW4TvRAITRjCpvXt5uDfOovUUas3ZuuxkCmwbGA10b5a9B2HuOgx\n",
       "iA8/pS+St/V0tI58usq4td2gUXSP3z3jXp1/Dw2eeAOh5qvXhXvAl5jslX3voRt2AmWmu3UHwYH4\n",
       "RhVYG1cElsj5UllwYXcZ49m2DJwGQrgrlod3ztbHDD0edZNMGjOoCx0Bq6kVsZu2iCRWQje1yKuR\n",
       "MDT/fnjnpb5T2aqVd/p92o5A8kp/rnp1CpJTbJBi3+vSPBt2IDTdfvqocKlg0jbPikzPgOJXBbfy\n",
       "38YuLA9A3W3tUkbDdQyqR0HAEifnBMtXQoDi+ue6FHt/1BZULzdd5/S6z8+Chmco1U2lCpKLDrCG\n",
       "Xo5TEbOcaqVnd84D76ja64q4Uhhrg4CbFQtycTLsgo+PKppmqOHUZzXOJiwXy1lVxwTJghENLMLG\n",
       "IhJGniHhZcNSokBq1RQM3gIi4xqYfgqQP0cQaIx6NTq8qN9ExJa8E7+rmhKjcB54ulWXNTTiDSB3\n",
       "XvQtkrz53HwhJbEpDw/azrTGsFsk+tvXuRcySyjSUeg1MwaKpTlF7tDQoV6py9DcQUBx1G8oIwIN\n",
       "qk34+fabbz4wE0bau9nu9wKkGVxE9kXpZepVVvTdeGb8Q/Mkh2pHJPVnuxlhZTPdRWhy+MXataa6\n",
       "SissTcu5gkgAP7HNhCF+YEEzMaJPLg5NzsSTB7u19lq+elWIn29vSe94qQdpm4BNxz8wqXk267gB\n",
       "MQPaoigsbWQ3x1IOURa+z3xZcn/RCHD5YPWUXifRuCvvg9DLHIehJU5puZp7bDcyc3QpY8boZJoa\n",
       "rPytS3C9+SYiV+X+OntOic1+NfYSe8XC2Pz+HmaY5GyEbYEAAAEwQZ9ORTRMN/8GvO9gfoHRAAhh\n",
       "E57pdYqJFhI7HKCG4dTdTQ+oCKmiJ9azNf4vaf0XnDzj/XDTc4ZLVXNpmn3zSq0Sj8IxpSMugM2n\n",
       "JH/z+oDATJgZKrXOhK1NKZKMKxlJhN4FIhyDAo2BiSdpOQYW921mlARnMsaKMt7zlKBfs2LxZBvg\n",
       "mA8ugZiYF3ddHcmO1hUo2BmRUd6cpYomnw83aATFqETzMVeqebg+1bD3UZm2Ilp1WLve+1tsUx/k\n",
       "Oi7rf5UcG4V/3wEx5OARpfOujDagCOgABszDwUE8+Gt3Z6B4wyvJD1RI45wf4HmEV6dkairyvAN5\n",
       "KEiUbx97GK2GKWj/pW5JFjnOLdNmPxYmrJe3kYIKOz68Tgpsg3dgAAoPp2AjS7op1MUHtNpGRKlu\n",
       "RwAAAPUBn29qQ38HJuVg8AIUS7ubRTRX+dN/PDCdsA5SDhAcA5zZKKg9ps8GrIDxjrwb9KiVrZf+\n",
       "KJ22FmpiUyiWW3luV5jWUYg2REuggKhgQcBXLYKJYHbJ/oWCxP/iYZRcaz+7Ux7D5mq590IrnYc3\n",
       "tDc8vcuVG0kRTs8hA9vqQg9pILrif5ev8ZUq/t4JM1nuly+xIDaZ5wl5SS4rZoGxOQInBEmeey7C\n",
       "y8EaexqMakH8jiZIobH9xC4xuIUDQ8RQAAADAAIXdbkk967KajoLBy0Uz6wsjcdbzAqDU8DUKwsx\n",
       "E5DfbC2+fBws2XUdAr5Ye881fTr5gAAAAj1Bm3JJqEFomUwU8EP//qpXfTMW0nu2YABtM/FE4byP\n",
       "OaqtRu8aRsmXRmiBg67qoZeTB+nswgvQ/P1SCJG0jgzzM84Q0IFJTHgK2d/VCCOT+Th3oMrK26M5\n",
       "RUdFZqfjjf1wjlitWNXCghc/RY/qUoPREQ/r+HVK4VZd8JTeKMTAOnj2kvJL1gnvdhHZ2qQWWfbl\n",
       "Slsr3U9MbyUx30Ile0qK6N36NSfn0xb5v4xE1dSw8AzK/KO7OyRA4BKHealIioQ7lHn01z55UM7/\n",
       "ozegQIKXsLkDpvR4svw3b76IOFKoVCO8sJt/pjSSKJMs9VLiZ5TdxlusguGNo5a9brcSltHj4zDL\n",
       "saIE6AUOeWd0V2qEF6KlUUgWY71qG+f3BrhX50oTJoANB6s6flkzNZG5dQizjz+R8rls3ku8aWqJ\n",
       "satqV4O/Lq5YmOGp/m9zVQ0hHyh1n2BzMgbi4x9ft4H5GmtCqPtYo+ZTky89cqDaxblwTXPPIJ8v\n",
       "LXvkOR3LvZfHz8JVwyLf/gLAzInZB/z7XYPCx+KpD+CVwZtcjQZ4C9/euG6Cu24Q4gBeQru0DJvj\n",
       "U/D8EAjV/cJjVxzFC8oYeI4CVVZLxzZoFS6AHgg8a96z30qzc5EB7ZnNQ4qgO11zNm/q++KZLW0v\n",
       "rtT/TdRNyjieZxwHhEvv6lS/2h90q50ewBZ+NABreQNFfdyf30EYZCwfhhQctNz5ydshj0JPNXB/\n",
       "342xq187dFzYX/AlDm7gvg2QkbYSCEpqdKwBtygAAADdAZ+RakN/Bq0kLbwSN7wAhRFiJUKjlqbk\n",
       "uafBTyvLg+exbr/n+Cgt/9ArMiWT2oChu5s6xscJHg3oZvoQD8GxNPv/QwJE+YiIPNKcMzpTqMHg\n",
       "G6IhqBPhl7lCoLv3CrzeCZfXw7zwPS+1RK0RF9h+wrjKFTcRBla0s1+sRDqlT0mj3sbhYa2yvlo1\n",
       "JgCllA1KDNK6GoNVBVo5r4DC5JPJVigJWieRwuSbAjH1ofHFtMNiuzGkjhy/jfm2eIV1bzPaXEv5\n",
       "1hrrZI5h1AoggcmqtGlRD6gatfUfcXUNd00AAALUQZuUSeEKUmUwUsEP/qpX10TyWpwYO6AAE7nX\n",
       "JUY+ylZgYRVNcpiWchML7YjpkrGKoj05NlwThbQAKcRqWKxyiXHOuRvb+iaUoMaHNVERUwKNWte/\n",
       "ljiybnpFORhkE6q9HIv8V1kdU+PbDeTi+7IztPIzTYI31AocMZ02bUCQdPza7VBSyiby9/G1kYn7\n",
       "ak0Yb2Mn/T+F/blFawocMmBYC+3SBRLz8zSxOPUvUIKgJADtZqXPM7qO1s7zXbYDHsCzJBubiPPV\n",
       "W/7DFSgBa49A6s6So/vX9m8yIF/CC4Ph6UkN4zMA+y7O+TpKYRuzpLNCXGiDQM7u9w2aWorKK8+J\n",
       "PM2z7pDbi/kzoXP3f/yI6CxbF9b9Z1Rb7M+IdOnHgWyz1hr2xULp/dmqzcLHdbFax58qkktT1Y9S\n",
       "sAlCXo1bz5HnG13b3UWRcctoH1f/uKXPAaGOEYXwMiY8tXg5GB25f3GH1u+dNylUUYsqi7k14cGK\n",
       "pCL/tsnR7cDq/6GmCbWF/IkW2CPMw8oxRDcS0Bn++VVmhrhT8rw/kH+BuslVNVpoFl8c3J8L1tdJ\n",
       "XR/RVNBb9jwkiWKVtSfIpOCIrdZlIsg3GS1+1eEHZsC4jTc20D9gQae31ZWMr8zkTixzRPvY26x5\n",
       "EFeF6R3oO8pC8Hu3Owewy9M+iVFs7ACjszeVTYX868q1fK4vTAeDCDDnTneU+EfMtaG8Wt9fslNm\n",
       "UnCYafs3XiVPORZboy7QWr51anAC4rd21hLgc+QsUQeEYTx/b2Pk/oQEJlcFc8P1ykDE+7JzjK+f\n",
       "/Yfn69TbkFXdOBqOlOd1BbbtOQky2xAjDoACMaVSnWsFQqStW4yQ4kcauPCI1ocE408kPSB+5RYh\n",
       "VbtodR6AnsrSHat5QCWOHoNUOFzxteXIsrXmJ5y4nRNUWjOvruzRm0QTXLpZ+xRDVfXqRWjjUS4N\n",
       "qt80J9ElDY8MLcmd9AAAANUBn7NqQ38Gpd9gFyQSiABDdWaz/KO4P1KshvMVoKYYBJu4fyp8dvSZ\n",
       "xVmSXWXIDQTyJeLVCu4uMIyNz8VwM5BZ1//RIuAIk9jJAajin1knCqdRNaGD59sGO/kppnQspaP0\n",
       "gvX18sMlcdfI9RwsiiEivDO7X+NvfHa6X8hadYDk1NTrS5EaXes9zzOAlqy1mSIOKK0YdAbAXCoN\n",
       "MdP1hSvoM9VdhUbblFHjMYGl6LTMLhyXrRChzctRtli/eXTF+Ra6H4Bpxg9v/2VgxGzrZRbD+UoJ\n",
       "XeYAAAJVQZu2SeEOiZTBRMP//qmcW+xgBLV2BLwCvVr6qMQHmRI89pGUA3PtAUHFWY+HUSWr0UgS\n",
       "WWkW1RZi+qZsUPIMQm4k3cWgxCcmWMzt1I+3eVVlgWmPpy+BBbdGl2oJ2bxGFWNlAKC9o+PYgMFx\n",
       "M0LwO/Qhoc+wvSih5Of0K5okXKAlCN+3WBGLHsgHqQKIXhEItN12TzPIy/oqZCCWbbCTd7gQWOsn\n",
       "yRzQGHAyaM4HXmvMbygJN6z9P5nOOLx996ICOF0khx0nlSpm+hUUJDUCsp7/8xTb18ycWOTA8Amk\n",
       "T0O5l1tBLJOWsrk148Py8p3+LF8gygZjVl07N63DiIG4n0wx+ymlK9GfwQ1jc/NIXF9PgnvbB79J\n",
       "rhM74szx3//6kcdzjmT15nXUo8tdUVqupLfdtj0VKEuf7TZMMQ9QcTv+YtS6CAlZQ/MRvS4bfkAn\n",
       "CC9FwLa1z/ZySX/8XRDNlVuWvcOK/bi45z2hCg8rCulW/FMgdFrXaU4PS9wZkLGGOsPh1j/5OBMp\n",
       "X/CxG2OK+FXCav+IdCpqXO0dE5r7NjrJZAwV/fix7f7pM1BXxyy9qqQVXe6nWhvlV6uFy2QkpC68\n",
       "o7/auRuSa89g8V38sVwHKdSkTkaqZmr+BmPV8BOpzvx9/6e/JPjOzs5hyBU6VRZm2oFRUv7ozIMJ\n",
       "XwPYiEmUj5nf/c4Lox/HwnCLYfgPvrVQV2c2UOf7x+vzKcRSHcq30DZxvVIr+annxlYDqbnGyitj\n",
       "nj9uTGDXeTL7nsIPQT9PUfMDfktngyXdXnBGMGshduaLAAABJgGf1WpDfwas4I44cQAbKCzBKQUT\n",
       "Pw4KIlyKJ8uL7BLz+aKj40+Hab7hXavU0hoFQdsFZ1GUzo6U/CYG1JbonbCU4a9WbNMkwQoABmO6\n",
       "/Ie3XMP+RGhH7FmitTpgTimJs8tw2odidjtDCi+VtNe/VpdkEhk5uNQjy40M5OnEPW+3JRVzDD42\n",
       "lSkXL7Nc98mgICf5+2m+DLpeEFWRW9D/cv/+Ivoqhsf3IzGO7Nqdr9A8rLZricf0xSUwqh2n0fYX\n",
       "5j7O/d+YRNh22s4HMf5lgAHcHx2NL4g9NBMS9Jes/mJ0HPZlXYyDeNA+ViqrcM0+RMgfBBNAaFJe\n",
       "QY6jJbVqDxT2Sq4Jn6UoPVNGbN7SX/EY/wKWV7YUOHLSnZav21xlWM1bWIDegAAAAddBm9dJ4Q8m\n",
       "UwIIf/6qV4UMwAD+kByBC5nnFmBYrhLCthxdKYaaaVMbcWmyLqvG7eVo6kd87Lg507AS/KGVryNz\n",
       "yP7Km0HTx27XedP9GciUChHwDT+7/RWKFPULYNwj7apexIs9Rtz/GO4XrlSJsl1umq7W7axlkGg4\n",
       "S/vWzIGNYSLIy2kzP/kB7BbrUysMbFf5GLs8TJqd05xn0Z6SZTo9neXUQK8JRT667Wxu0at7Ilae\n",
       "zAm8eTIIhX91s3zvSAFFw+iM7U+l1n/zy8Ggw2eBZb1I9RsvJiwxBazqkWuaPZJGn1YBiX9UTCoV\n",
       "EITB2V+/SzjtyfhoNxNg6qk5e0NzHGsuecB5Fw0HnUzXuuVzGGhJlLwDJoNz/S/k+/rTjXJy0ITp\n",
       "6QzyuFkeZPQ2TGJbNV+BpB85VcwwBYemonttDwNRCHDg0Jdc4ffWnswZ7jj/BdM0vHxJNS3czV1b\n",
       "1cW6MccwbFTECZIuicK4ML+6wFwQLWhbOpXGCdxpQ2aibnbxRYNxCrvBAqqji3BvwBUjsQShAuJH\n",
       "LsiFmFO92aZvqoPQM15lJ/Py+xGHIJqPLT4jQN5GjqxGLzTZM+updOqDDOzCfYuK83AuiduQkgBm\n",
       "4Ud1gWYomjEAAAI4QZv5SeEPJlMFETw///6pnD/oyNoAJ0jHYnY+gR9MSTLy5EONcIrOx3mU0EUg\n",
       "VrPwYqrXr8HWgexZUmh4CZ6lYO/3NB5rrFrz5fs2k8YvXjiXgEMfO2ucZLH8BUOu+L2QaPBgUh5z\n",
       "5JosaxR7OnpzbvooDYEFIOIFUaMBMaoX9bXGnx3gBu3jGIn4bEdcGEWGusxg69lRwHN+acLnWnUj\n",
       "1NdOpiaRuz0afKfIkYmrYpc9BP7F6iT9gKcFx6hT0QtWpQuZZ9vH37YFp/yxvt1W73dmQ+saH+Ke\n",
       "gBvg7MGMFog7qpfhU6+5lCY97eWNRkO4IHFRCDZ8fVF7763dpna5e1oVSS7vYks92A6U1vu8hCA2\n",
       "7VD2QpqweIDe3eym9KMkKcK2Zjy01xAQY5yNh4FDZmZgEYVU1WC+aai/buUT8ATH/A2vYDJjnCVj\n",
       "R5rOmxYIj8K+0mP694IW2fnPSfRiSSZaEguAd6FDIYofclsHEOW5DZOoOx3/4dS47L8/aF0wk2id\n",
       "INWidIQ7vj0p0/LIsrrcc6AFjsdXORHNDkW+dTBoTO+vU4HPB0mDFeTzhG1X0XgWAcz0OdG/+enT\n",
       "haX/5uO5VmAABXvFUc5RP6cZ3wgcusTAgGr0E8oZZRyDbuGqIZxbMgYGR+auxXTdEx+M45ZKilPy\n",
       "S9KYR8hM8l/it94yb/11+ALYl7B3B4uU0iWyg8E/UZhz8eUnpcukFKyE/Qu4TqypX0o1dX7XzhKU\n",
       "893h6IbsRTr2gQAAAPsBnhhqQ38HcdEAIU9BeT/kKPMb9AJ6GDWB4qGZnbr/6SZ4ihuOesLoZyPF\n",
       "a86PiJM/zKMkJJh3kAWXMf5a1PS+PlXm9XfD0E4srFQPgwaB6pJq/q/32yipinbPfVLqiw1kE74F\n",
       "lVdSPkA3ChvuCbGpPcuQzvqEJ2GJzzzZwnvMErJ/oIs1i5ok5lM3sA+a4zqFBBTVCoViqrDIyQh5\n",
       "ON/7DO/jFjVaF9PXpDHk6qJkGz0BYw+OnMB41482vUYZvuYLLJE0T0iQVbbd9VhASWzlv3uBYDEe\n",
       "aH8KBImY/spVvNrAm6lQ5B/BkbCRHe6hfu/37LK+RPnXYIxYdwAAAhNBmhtJ4Q8mUwU8P//+qZ0F\n",
       "W7aACIJORhZk+b8ibEPsAvNDFaLYlnzX8I7r/tPO1X5Xuk2RXCivp2y5jNoEkGo8p5p6rS4w8TzV\n",
       "WIzpDN5J9AHCAqNjuNmOgQs6sRr1r6EeHoTaHtEVU7DFN97Y6HJ3yLWnGEytNo6Tgn/WF/dBIIUa\n",
       "cojNLjiURCOq0NptUpVxlJobAPl/50Fwk5PAZd5cvXPYuTbubuwYtKjyYctU7N8wOkMar2mhsDWT\n",
       "eUYXJD1nZSA8PE8K1sPkhlCQCUUt7jNscdjutoQrm8P8SVlGKztoFpytAiduZjRmUohLUqEdu54f\n",
       "qBfPm7OHwblt20l6AjBmM7milcM/kEK1A0xvQXdNx0KHuO5aP3BiR/j/KJfCMt5POyZ8n8EMnf5N\n",
       "Q1oGsvt0dY4GPHiW9WPxD0bGebTAq1pCGD9gpMkNyYyrF6x9iLpvjnYxUPOs2FXezi0Ozo9Wwh5p\n",
       "X7cSuwHCpSfBPyuPfrLu2JCYT7zgbdf/QLf1ygcjpZlTYbwbr/EEBMvkuWEB9rGWVESYuxasol6i\n",
       "IEHheZDdiovua5aMircHK/c249SJGKPyExAzdcmlh7eXFrZV1JwMZbRrowKD5qbwd0h8J1JcGpTo\n",
       "d2uo3IQQgZqXdCAdySvEejBtvi5+xzK12TO7sPWCw21awYiCl/7O4DBLHhMBnQsmOq/qNCwOFz6F\n",
       "c8cAAADkAZ46akN/BzxmA8AIU1tH55BnAlWAN61Tsrp6Oz8DZe/rAZzHJoKCa2gko6q56UsPdBQw\n",
       "n6ljJyKlNqw8tWWzrXwRFvRLm8N2YVmSgJmAzl+UJz1waBEHgg6Axx0s6xx99OneCWRenH+eBLu6\n",
       "uonxr10x+GCQrVYFRMnv/j4Z+0nEVO0Alia/zTQyA5szevnMoGBj7TMWU59R7PzYa2TxsUQCG3gy\n",
       "KqoGIRVLSD5dSbVuGEP/HvjPtU2AEJdIsoBJqKzR8q+kQaWCt/3X4kXmvjrT/uOLABLiwCcec7sS\n",
       "pRrnBuGdAAABkUGaPUnhDyZTBTw3//6njzy7yAARBraTmSl88V6m6hlA7C3ujhcRAeNyqpkmMIBm\n",
       "s+LAiDn4t728LTB4oqRg38eh1htL/ogjl402gcrMOZqLLHGTgA7ag7YH9XjEeS2xINLs8OS9ILy0\n",
       "lNsvIovHniQ+l4nAhNZOUOnDUkCJpPSrlDezWr8iIzizpUI5IgrayzpoQ+PuJLx4N4ngtR1fRqu0\n",
       "4hMBnjgDN8fkSd7MCzPPCHtayjH70uGTaGr8MXFE+QtmH9zW17xPLYFFHtUGBxDHHF+IaZDei3AN\n",
       "O85go+GsR6k6bdRrrH2C+6yhR+wial0nE3wA9ZtK5kWPnivfQNjkXto0YOpzMkMEvxPcaH+1cBN3\n",
       "ZJcoczf5fgFI/sp43QCi0S05YYobnqBHCGGfiNXtOIYyWnWZetO05GrBvpqPoWAwKxOXu7qbg6sP\n",
       "9tKIvDhUY4zalLZfdSV9HX2KONl99PUrgs4IxUF6+SAEdBxWKPfv/p2ekFkNeFh68aHJyiJniKVE\n",
       "UILHrklLqRzZawpjAAAA5QGeXGpDfwcaZsCQAIY9VMiw5va15KWjEsOiuGK2wYIWmGoHEivgHoCC\n",
       "xZzRKB6k9jdGrWWanXGrED1Jj/P/XuhSZCwYPU77o5cQVh6CNrd84ko4FagBUg545FXabrUnKmWB\n",
       "AqiAWtdIfEm8326zvTjA3aZCvS1pQk/hD9Ij19/0jfS6PKsgRBDVu5T1QE6CotlIk4MzwCczTM/5\n",
       "vanxT+egQWqaeD7v8y8i9+5FBBu/TLu9O9PfFZbNYJFw6nKPOVDyi1V4XdcuNhsf1GtPqJao0u+w\n",
       "ytQSvRl6ayzn5G1tk7w5RiEAAASKbW9vdgAAAGxtdmhkAAAAAAAAAAAAAAAAAAAD6AAAC7gAAQAA\n",
       "AQAAAAAAAAAAAAAAAAEAAAAAAAAAAAAAAAAAAAABAAAAAAAAAAAAAAAAAABAAAAAAAAAAAAAAAAA\n",
       "AAAAAAAAAAAAAAAAAAAAAAAAAgAAA7R0cmFrAAAAXHRraGQAAAADAAAAAAAAAAAAAAABAAAAAAAA\n",
       "C7gAAAAAAAAAAAAAAAAAAAAAAAEAAAAAAAAAAAAAAAAAAAABAAAAAAAAAAAAAAAAAABAAAAAAbAA\n",
       "AAEgAAAAAAAkZWR0cwAAABxlbHN0AAAAAAAAAAEAAAu4AAAIAAABAAAAAAMsbWRpYQAAACBtZGhk\n",
       "AAAAAAAAAAAAAAAAAAAoAAAAeABVxAAAAAAALWhkbHIAAAAAAAAAAHZpZGUAAAAAAAAAAAAAAABW\n",
       "aWRlb0hhbmRsZXIAAAAC121pbmYAAAAUdm1oZAAAAAEAAAAAAAAAAAAAACRkaW5mAAAAHGRyZWYA\n",
       "AAAAAAAAAQAAAAx1cmwgAAAAAQAAApdzdGJsAAAAt3N0c2QAAAAAAAAAAQAAAKdhdmMxAAAAAAAA\n",
       "AAEAAAAAAAAAAAAAAAAAAAAAAbABIABIAAAASAAAAAAAAAABAAAAAAAAAAAAAAAAAAAAAAAAAAAA\n",
       "AAAAAAAAAAAAAAAAGP//AAAANWF2Y0MBZAAV/+EAGGdkABWs2UGwloQAAAMABAAAAwBQPFi2WAEA\n",
       "Bmjr48siwP34+AAAAAAcdXVpZGtoQPJfJE/FujmlG88DI/MAAAAAAAAAGHN0dHMAAAAAAAAAAQAA\n",
       "AB4AAAQAAAAAFHN0c3MAAAAAAAAAAQAAAAEAAADwY3R0cwAAAAAAAAAcAAAAAQAACAAAAAABAAAM\n",
       "AAAAAAEAAAQAAAAAAQAACAAAAAABAAAMAAAAAAEAAAQAAAAAAQAADAAAAAABAAAEAAAAAAEAAAgA\n",
       "AAAAAQAAEAAAAAACAAAEAAAAAAEAAAwAAAAAAQAABAAAAAABAAAQAAAAAAIAAAQAAAAAAQAADAAA\n",
       "AAABAAAEAAAAAAEAAAwAAAAAAQAABAAAAAABAAAMAAAAAAEAAAQAAAAAAQAACAAAAAABAAAMAAAA\n",
       "AAEAAAQAAAAAAQAADAAAAAABAAAEAAAAAAEAAAwAAAAAAQAABAAAAAAcc3RzYwAAAAAAAAABAAAA\n",
       "AQAAAB4AAAABAAAAjHN0c3oAAAAAAAAAAAAAAB4AABQYAAADhwAAATsAAAKNAAAC0QAAATMAAALx\n",
       "AAABKQAAAjMAAAOAAAABDgAAAPIAAAKJAAAA6wAAAu4AAAE0AAAA+QAAAkEAAADhAAAC2AAAANkA\n",
       "AAJZAAABKgAAAdsAAAI8AAAA/wAAAhcAAADoAAABlQAAAOkAAAAUc3RjbwAAAAAAAAABAAAAMAAA\n",
       "AGJ1ZHRhAAAAWm1ldGEAAAAAAAAAIWhkbHIAAAAAAAAAAG1kaXJhcHBsAAAAAAAAAAAAAAAALWls\n",
       "c3QAAAAlqXRvbwAAAB1kYXRhAAAAAQAAAABMYXZmNTguNDUuMTAw\n",
       "\">\n",
       "  Your browser does not support the video tag.\n",
       "</video>"
      ],
      "text/plain": [
       "<IPython.core.display.HTML object>"
      ]
     },
     "execution_count": 83,
     "metadata": {},
     "output_type": "execute_result"
    }
   ],
   "source": [
    "# Create an animation of the traffic density.\n",
    "anim = animation.FuncAnimation(fig, update_plot,\n",
    "                               frames=nt, fargs=(rho_hist,),\n",
    "                               interval=100)\n",
    "# Display the video.\n",
    "HTML(anim.to_html5_video())"
   ]
  },
  {
   "cell_type": "markdown",
   "metadata": {},
   "source": [
    "That definitely looks different!  Do you think this is more or less accurate than our previous model?"
   ]
  },
  {
   "cell_type": "markdown",
   "metadata": {},
   "source": [
    "##### Dig Deeper"
   ]
  },
  {
   "cell_type": "markdown",
   "metadata": {},
   "source": [
    "The new traffic-flux model that we developed here changes the way that traffic patterns evolve. In this lesson, we only experimented with the most basic scheme: forward-time, backward-space.  Try to implement the green-light problem using one of the second-order schemes from [Lesson 2](https://nbviewer.jupyter.org/github/numerical-mooc/numerical-mooc/blob/master/lessons/03_wave/03_02_convectionSchemes.ipynb)."
   ]
  },
  {
   "cell_type": "markdown",
   "metadata": {},
   "source": [
    "## References"
   ]
  },
  {
   "cell_type": "markdown",
   "metadata": {},
   "source": [
    "* Neville D. Fowkes and John J. Mahony, *\"An Introduction to Mathematical Modelling,\"* Wiley & Sons, 1994. Chapter 14: Traffic Flow."
   ]
  },
  {
   "cell_type": "markdown",
   "metadata": {},
   "source": [
    "---\n",
    "\n",
    "###### The cell below loads the style of the notebook."
   ]
  },
  {
   "cell_type": "code",
   "execution_count": null,
   "metadata": {},
   "outputs": [],
   "source": [
    "from IPython.core.display import HTML\n",
    "css_file = '../../styles/numericalmoocstyle.css'\n",
    "HTML(open(css_file, 'r').read())"
   ]
  }
 ],
 "metadata": {
  "kernelspec": {
   "display_name": "Python 3",
   "language": "python",
   "name": "python3"
  },
  "language_info": {
   "codemirror_mode": {
    "name": "ipython",
    "version": 3
   },
   "file_extension": ".py",
   "mimetype": "text/x-python",
   "name": "python",
   "nbconvert_exporter": "python",
   "pygments_lexer": "ipython3",
   "version": "3.8.3"
  }
 },
 "nbformat": 4,
 "nbformat_minor": 1
}
